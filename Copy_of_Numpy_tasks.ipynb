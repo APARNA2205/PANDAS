{
  "cells": [
    {
      "cell_type": "markdown",
      "metadata": {
        "id": "view-in-github",
        "colab_type": "text"
      },
      "source": [
        "<a href=\"https://colab.research.google.com/github/APARNA2205/PANDAS/blob/main/Copy_of_Numpy_tasks.ipynb\" target=\"_parent\"><img src=\"https://colab.research.google.com/assets/colab-badge.svg\" alt=\"Open In Colab\"/></a>"
      ]
    },
    {
      "cell_type": "markdown",
      "metadata": {
        "id": "LE9fdIJL1IA2"
      },
      "source": [
        "# Numpy\n",
        "\n"
      ]
    },
    {
      "cell_type": "markdown",
      "metadata": {
        "id": "Fi8s-PCe1IA5"
      },
      "source": [
        "#### 1. Import the numpy package under the name `np` (★☆☆) \n",
        "(**hint**: import … as …)"
      ]
    },
    {
      "cell_type": "code",
      "execution_count": 1,
      "metadata": {
        "collapsed": true,
        "id": "DJW4W87s1IA5"
      },
      "outputs": [],
      "source": [
        "import numpy as np"
      ]
    },
    {
      "cell_type": "markdown",
      "metadata": {
        "id": "uYTFi5Nn1IA6"
      },
      "source": [
        "#### 2. Print the numpy version and the configuration (★☆☆) \n",
        "(**hint**: np.\\_\\_version\\_\\_, np.show\\_config)"
      ]
    },
    {
      "cell_type": "code",
      "execution_count": 2,
      "metadata": {
        "id": "eK5k37kK1IA6",
        "colab": {
          "base_uri": "https://localhost:8080/",
          "height": 36
        },
        "outputId": "bfa0edde-ab22-449b-d258-1cf02feddb8d"
      },
      "outputs": [
        {
          "output_type": "execute_result",
          "data": {
            "text/plain": [
              "'1.21.6'"
            ],
            "application/vnd.google.colaboratory.intrinsic+json": {
              "type": "string"
            }
          },
          "metadata": {},
          "execution_count": 2
        }
      ],
      "source": [
        "import numpy as np\n",
        "np.__version__\n"
      ]
    },
    {
      "cell_type": "markdown",
      "metadata": {
        "id": "bexEh2H01IA6"
      },
      "source": [
        "#### 3. Create a null vector of size 10 (★☆☆) \n",
        "(**hint**: np.zeros)"
      ]
    },
    {
      "cell_type": "code",
      "execution_count": 3,
      "metadata": {
        "id": "itQklOaL1IA7",
        "colab": {
          "base_uri": "https://localhost:8080/"
        },
        "outputId": "15997df1-a4fe-4bb0-d4c2-8d8b26d4cc7d"
      },
      "outputs": [
        {
          "output_type": "stream",
          "name": "stdout",
          "text": [
            "[0. 0. 0. 0. 0. 0. 0. 0. 0. 0.]\n"
          ]
        }
      ],
      "source": [
        "import numpy as np\n",
        "a=np.zeros(10)\n",
        "print(a)\n"
      ]
    },
    {
      "cell_type": "markdown",
      "metadata": {
        "id": "IvSlNrOf1IA7"
      },
      "source": [
        "#### 4.  How to find the memory size of any array (★☆☆) \n",
        "(**hint**: size, itemsize)"
      ]
    },
    {
      "cell_type": "code",
      "execution_count": 4,
      "metadata": {
        "id": "ku5HnzKz1IA7",
        "colab": {
          "base_uri": "https://localhost:8080/"
        },
        "outputId": "2ba9b10c-98a6-4101-99e5-6d9a6dbbbdc1"
      },
      "outputs": [
        {
          "output_type": "stream",
          "name": "stdout",
          "text": [
            "128 bytes \n"
          ]
        }
      ],
      "source": [
        "import numpy as np\n",
        "n = np.zeros((4,4))\n",
        "print(\"%d bytes \"% (n.size * n.itemsize))"
      ]
    },
    {
      "cell_type": "markdown",
      "metadata": {
        "id": "3IywPyz51IA8"
      },
      "source": [
        "#### 5.  How to get the documentation of the numpy add function from the command line? (★☆☆) \n",
        "(**hint**: np.info)"
      ]
    },
    {
      "cell_type": "code",
      "execution_count": 6,
      "metadata": {
        "collapsed": true,
        "id": "MfSATOy41IA8",
        "colab": {
          "base_uri": "https://localhost:8080/"
        },
        "outputId": "4411d2e8-511b-4bb8-fa2f-4fb10bf8adbf"
      },
      "outputs": [
        {
          "output_type": "stream",
          "name": "stdout",
          "text": [
            "add(x1, x2, /, out=None, *, where=True, casting='same_kind', order='K', dtype=None, subok=True[, signature, extobj])\n",
            "\n",
            "Add arguments element-wise.\n",
            "\n",
            "Parameters\n",
            "----------\n",
            "x1, x2 : array_like\n",
            "    The arrays to be added.\n",
            "    If ``x1.shape != x2.shape``, they must be broadcastable to a common\n",
            "    shape (which becomes the shape of the output).\n",
            "out : ndarray, None, or tuple of ndarray and None, optional\n",
            "    A location into which the result is stored. If provided, it must have\n",
            "    a shape that the inputs broadcast to. If not provided or None,\n",
            "    a freshly-allocated array is returned. A tuple (possible only as a\n",
            "    keyword argument) must have length equal to the number of outputs.\n",
            "where : array_like, optional\n",
            "    This condition is broadcast over the input. At locations where the\n",
            "    condition is True, the `out` array will be set to the ufunc result.\n",
            "    Elsewhere, the `out` array will retain its original value.\n",
            "    Note that if an uninitialized `out` array is created via the default\n",
            "    ``out=None``, locations within it where the condition is False will\n",
            "    remain uninitialized.\n",
            "**kwargs\n",
            "    For other keyword-only arguments, see the\n",
            "    :ref:`ufunc docs <ufuncs.kwargs>`.\n",
            "\n",
            "Returns\n",
            "-------\n",
            "add : ndarray or scalar\n",
            "    The sum of `x1` and `x2`, element-wise.\n",
            "    This is a scalar if both `x1` and `x2` are scalars.\n",
            "\n",
            "Notes\n",
            "-----\n",
            "Equivalent to `x1` + `x2` in terms of array broadcasting.\n",
            "\n",
            "Examples\n",
            "--------\n",
            ">>> np.add(1.0, 4.0)\n",
            "5.0\n",
            ">>> x1 = np.arange(9.0).reshape((3, 3))\n",
            ">>> x2 = np.arange(3.0)\n",
            ">>> np.add(x1, x2)\n",
            "array([[  0.,   2.,   4.],\n",
            "       [  3.,   5.,   7.],\n",
            "       [  6.,   8.,  10.]])\n",
            "\n",
            "The ``+`` operator can be used as a shorthand for ``np.add`` on ndarrays.\n",
            "\n",
            ">>> x1 = np.arange(9.0).reshape((3, 3))\n",
            ">>> x2 = np.arange(3.0)\n",
            ">>> x1 + x2\n",
            "array([[ 0.,  2.,  4.],\n",
            "       [ 3.,  5.,  7.],\n",
            "       [ 6.,  8., 10.]])\n"
          ]
        }
      ],
      "source": [
        "np.info(np.add)"
      ]
    },
    {
      "cell_type": "markdown",
      "metadata": {
        "id": "HpqSUbWE1IA8"
      },
      "source": [
        "#### 6.  Create a null vector of size 10 but the fifth value which is 1 (★☆☆) \n",
        "(**hint**: array\\[4\\])"
      ]
    },
    {
      "cell_type": "code",
      "execution_count": 8,
      "metadata": {
        "id": "lYb2Foko1IA8",
        "colab": {
          "base_uri": "https://localhost:8080/"
        },
        "outputId": "70d227af-93f6-447e-94e5-3b8a098106cf"
      },
      "outputs": [
        {
          "output_type": "stream",
          "name": "stdout",
          "text": [
            "[0. 0. 0. 0. 1. 0. 0. 0. 0. 0.]\n"
          ]
        }
      ],
      "source": [
        "a = np.zeros(10)\n",
        "a[4] = 1\n",
        "print(a)"
      ]
    },
    {
      "cell_type": "markdown",
      "metadata": {
        "id": "h_JmlVNG1IA8"
      },
      "source": [
        "#### 7.  Create a vector with values ranging from 10 to 49 (★☆☆) \n",
        "(**hint**: np.arange)"
      ]
    },
    {
      "cell_type": "code",
      "execution_count": 12,
      "metadata": {
        "id": "cEB9t-F01IA9",
        "colab": {
          "base_uri": "https://localhost:8080/"
        },
        "outputId": "828b79f5-031c-43b3-f5f1-62232be9513d"
      },
      "outputs": [
        {
          "output_type": "stream",
          "name": "stdout",
          "text": [
            "[10 11 12 13 14 15 16 17 18 19 20 21 22 23 24 25 26 27 28 29 30 31 32 33\n",
            " 34 35 36 37 38 39 40 41 42 43 44 45 46 47 48 49]\n"
          ]
        }
      ],
      "source": [
        "a=np.arange(10,50)\n",
        "print(a)"
      ]
    },
    {
      "cell_type": "markdown",
      "metadata": {
        "id": "G25ksJSJ1IA9"
      },
      "source": [
        "#### 8.  Reverse a vector (first element becomes last) (★☆☆) \n",
        "(**hint**: array\\[::-1\\])"
      ]
    },
    {
      "cell_type": "code",
      "execution_count": 13,
      "metadata": {
        "id": "CIshiMgx1IA9",
        "colab": {
          "base_uri": "https://localhost:8080/"
        },
        "outputId": "fb037a1f-a3f4-4d4f-9094-4eedfbc37341"
      },
      "outputs": [
        {
          "output_type": "stream",
          "name": "stdout",
          "text": [
            "Reverse array [5 4 6 3 2 1]\n"
          ]
        }
      ],
      "source": [
        "import numpy as np\n",
        "\n",
        "arr= np.array([1, 2, 3, 6, 4, 5])\n",
        "result = arr[::-1]\n",
        "\n",
        "print(\"Reverse array\",(result))"
      ]
    },
    {
      "cell_type": "markdown",
      "metadata": {
        "id": "Q7rsKcIV1IA9"
      },
      "source": [
        "#### 9.  Create a 3x3 matrix with values ranging from 0 to 8 (★☆☆) \n",
        "(**hint**: reshape)"
      ]
    },
    {
      "cell_type": "code",
      "execution_count": 15,
      "metadata": {
        "id": "3pKK99Nq1IA9",
        "colab": {
          "base_uri": "https://localhost:8080/"
        },
        "outputId": "fe762216-fd6d-4503-9e83-d454225bff56"
      },
      "outputs": [
        {
          "output_type": "stream",
          "name": "stdout",
          "text": [
            "[[0 1 2]\n",
            " [3 4 5]\n",
            " [6 7 8]]\n"
          ]
        }
      ],
      "source": [
        "import numpy as np\n",
        "x =  np.arange(0, 9).reshape(3,3)\n",
        "print(x)"
      ]
    },
    {
      "cell_type": "markdown",
      "metadata": {
        "id": "32IHuGQn1IA9"
      },
      "source": [
        "#### 10. Find indices of non-zero elements from \\[1,2,0,0,4,0\\] (★☆☆) \n",
        "(**hint**: np.nonzero)"
      ]
    },
    {
      "cell_type": "code",
      "execution_count": 19,
      "metadata": {
        "id": "bky7iTEY1IA-",
        "colab": {
          "base_uri": "https://localhost:8080/"
        },
        "outputId": "5b6cb547-d690-4ae1-9202-a96deb3ba8ef"
      },
      "outputs": [
        {
          "output_type": "execute_result",
          "data": {
            "text/plain": [
              "(array([0, 1, 4]),)"
            ]
          },
          "metadata": {},
          "execution_count": 19
        }
      ],
      "source": [
        "x = np.array([1,2,0,0,4,0])\n",
        "np.nonzero(x)\n"
      ]
    },
    {
      "cell_type": "markdown",
      "metadata": {
        "id": "9TvbmovV1IA-"
      },
      "source": [
        "#### 12. Create a 3x3x3 array with random values (★☆☆) \n",
        "(**hint**: np.random.random)"
      ]
    },
    {
      "cell_type": "code",
      "execution_count": 20,
      "metadata": {
        "collapsed": true,
        "id": "hGz5K1qG1IA-",
        "colab": {
          "base_uri": "https://localhost:8080/"
        },
        "outputId": "b0070451-5343-4bb4-c656-e3090a0c69d8"
      },
      "outputs": [
        {
          "output_type": "stream",
          "name": "stdout",
          "text": [
            "[[[0.5256512  0.07427973 0.90086511]\n",
            "  [0.26815439 0.08805924 0.33061708]\n",
            "  [0.85950505 0.85036461 0.0317434 ]]\n",
            "\n",
            " [[0.14829159 0.88475214 0.14968235]\n",
            "  [0.83009424 0.29120012 0.20254612]\n",
            "  [0.14250481 0.17500376 0.07510137]]\n",
            "\n",
            " [[0.25458475 0.75158422 0.85851201]\n",
            "  [0.92479835 0.17362499 0.22084174]\n",
            "  [0.92182601 0.76097209 0.73845826]]]\n"
          ]
        }
      ],
      "source": [
        "import numpy as np\n",
        "x = np.random.random((3,3,3))\n",
        "print(x)"
      ]
    },
    {
      "cell_type": "markdown",
      "metadata": {
        "id": "roY8Lx9E1IA-"
      },
      "source": [
        "#### 13. Create a 10x10 array with random values and find the minimum and maximum values (★☆☆) \n",
        "(**hint**: min, max)"
      ]
    },
    {
      "cell_type": "code",
      "execution_count": 21,
      "metadata": {
        "id": "V8VSg2KW1IA-",
        "colab": {
          "base_uri": "https://localhost:8080/"
        },
        "outputId": "df633b55-6f1b-41fe-f4a6-184ebcddfef7"
      },
      "outputs": [
        {
          "output_type": "stream",
          "name": "stdout",
          "text": [
            "Original Array:\n",
            "[[0.38190682 0.9346811  0.87510836 0.13900078 0.54047483 0.63168252\n",
            "  0.45185878 0.06462201 0.30446024 0.35173176]\n",
            " [0.26880592 0.41370398 0.36392988 0.60827641 0.47950665 0.78961332\n",
            "  0.76315348 0.54754876 0.58339291 0.09516483]\n",
            " [0.67181548 0.27326533 0.8190301  0.26836155 0.59987308 0.54578499\n",
            "  0.42592386 0.4210632  0.35373819 0.37761601]\n",
            " [0.15498321 0.45043987 0.60944894 0.72743529 0.93158818 0.98264662\n",
            "  0.19330457 0.58455373 0.41593156 0.32998764]\n",
            " [0.91356713 0.48855921 0.63939763 0.77710506 0.63213453 0.07606074\n",
            "  0.60239356 0.59625933 0.73493649 0.26218621]\n",
            " [0.31060534 0.05930974 0.87977256 0.63950781 0.11467986 0.38052617\n",
            "  0.93485326 0.70590453 0.23076552 0.78829323]\n",
            " [0.72930993 0.60471345 0.48320707 0.17005441 0.8948255  0.93558964\n",
            "  0.5225104  0.1012302  0.27942918 0.89787711]\n",
            " [0.65611333 0.8772023  0.41235892 0.41485731 0.59139298 0.6184875\n",
            "  0.67894896 0.54982463 0.04708205 0.58409308]\n",
            " [0.22561923 0.36764058 0.08111138 0.90781504 0.07878616 0.35847995\n",
            "  0.03000897 0.47447341 0.976229   0.17936809]\n",
            " [0.60804926 0.70371875 0.48757856 0.68984811 0.40219931 0.55252247\n",
            "  0.18603789 0.5925739  0.12701289 0.08711535]]\n",
            "Minimum and Maximum Values:\n",
            "0.030008974368924024 0.9826466225545397\n"
          ]
        }
      ],
      "source": [
        "import numpy as np\n",
        "x = np.random.random((10,10))\n",
        "print(\"Original Array:\")\n",
        "print(x) \n",
        "xmin, xmax = x.min(), x.max()\n",
        "print(\"Minimum and Maximum Values:\")\n",
        "print(xmin, xmax)"
      ]
    },
    {
      "cell_type": "markdown",
      "metadata": {
        "id": "l-99lPga1IA-"
      },
      "source": [
        "#### 14. Create a random vector of size 30 and find the mean value (★☆☆) \n",
        "(**hint**: mean)"
      ]
    },
    {
      "cell_type": "code",
      "execution_count": 22,
      "metadata": {
        "id": "YYv_frZx1IA-",
        "colab": {
          "base_uri": "https://localhost:8080/"
        },
        "outputId": "9dd13a40-c450-4ea6-9cd3-095bc7cb7732"
      },
      "outputs": [
        {
          "output_type": "stream",
          "name": "stdout",
          "text": [
            "0.5932585992703178\n"
          ]
        }
      ],
      "source": [
        "Z = np.random.random(10)\n",
        "m = Z.mean()\n",
        "print (m)"
      ]
    },
    {
      "cell_type": "markdown",
      "metadata": {
        "id": "bLmnQUSy1IA-"
      },
      "source": [
        "#### 15. Create a 2d array with 1 on the border and 0 inside (★☆☆) \n",
        "(**hint**: array\\[1:-1, 1:-1\\])"
      ]
    },
    {
      "cell_type": "code",
      "execution_count": 25,
      "metadata": {
        "id": "QbB0A3LV1IA_",
        "colab": {
          "base_uri": "https://localhost:8080/"
        },
        "outputId": "0f0c4898-7766-4183-c9f1-d6dfddf99d18"
      },
      "outputs": [
        {
          "output_type": "stream",
          "name": "stdout",
          "text": [
            "[[1. 1. 1. 1. 1. 1. 1. 1. 1. 1.]\n",
            " [1. 0. 0. 0. 0. 0. 0. 0. 0. 1.]\n",
            " [1. 0. 0. 0. 0. 0. 0. 0. 0. 1.]\n",
            " [1. 0. 0. 0. 0. 0. 0. 0. 0. 1.]\n",
            " [1. 0. 0. 0. 0. 0. 0. 0. 0. 1.]\n",
            " [1. 0. 0. 0. 0. 0. 0. 0. 0. 1.]\n",
            " [1. 0. 0. 0. 0. 0. 0. 0. 0. 1.]\n",
            " [1. 0. 0. 0. 0. 0. 0. 0. 0. 1.]\n",
            " [1. 0. 0. 0. 0. 0. 0. 0. 0. 1.]\n",
            " [1. 1. 1. 1. 1. 1. 1. 1. 1. 1.]]\n"
          ]
        }
      ],
      "source": [
        "Z = np.ones((10,10))\n",
        "Z[1:-1,1:-1]=0\n",
        "print(Z)"
      ]
    },
    {
      "cell_type": "markdown",
      "metadata": {
        "id": "wShyKjiL1IA_"
      },
      "source": [
        "#### 16. How to add a border (filled with 0's) around an existing array? (★☆☆) \n",
        "(**hint**: np.pad)"
      ]
    },
    {
      "cell_type": "code",
      "source": [
        "import numpy as np\n",
        "array = np.ones((2, 2))\n",
        "print(\"Original array\")\n",
        "print(array)\n",
        "print(\"\\n0 on the border and 1 inside the array\")\n",
        "array = np.pad(array, pad_width=1, mode='constant' , constant_values=0)\n",
        "  \n",
        "print(array)"
      ],
      "metadata": {
        "colab": {
          "base_uri": "https://localhost:8080/"
        },
        "id": "6zao5GTPeob2",
        "outputId": "5c56211d-3abe-4524-c8a7-91d02bcfb2a3"
      },
      "execution_count": 38,
      "outputs": [
        {
          "output_type": "stream",
          "name": "stdout",
          "text": [
            "Original array\n",
            "[[1. 1.]\n",
            " [1. 1.]]\n",
            "\n",
            "0 on the border and 1 inside the array\n",
            "[[0. 0. 0. 0.]\n",
            " [0. 1. 1. 0.]\n",
            " [0. 1. 1. 0.]\n",
            " [0. 0. 0. 0.]]\n"
          ]
        }
      ]
    },
    {
      "cell_type": "markdown",
      "metadata": {
        "id": "I30Ar_WR1IA_"
      },
      "source": [
        "#### 17. What is the result of the following expression? (★☆☆) \n",
        "(**hint**: NaN = not a number, inf = infinity)"
      ]
    },
    {
      "cell_type": "markdown",
      "metadata": {
        "id": "raHq-TCH1IA_"
      },
      "source": [
        "```python\n",
        "0 * np.nan\n",
        "np.nan == np.nan\n",
        "np.inf > np.nan\n",
        "np.nan - np.nan\n",
        "0.3 == 3 * 0.1\n",
        "```"
      ]
    },
    {
      "cell_type": "code",
      "execution_count": 26,
      "metadata": {
        "id": "Y5cMEkYY1IA_",
        "colab": {
          "base_uri": "https://localhost:8080/"
        },
        "outputId": "e7d19ba5-0c18-4058-dd58-a4f7e78ebc22"
      },
      "outputs": [
        {
          "output_type": "stream",
          "name": "stdout",
          "text": [
            "nan\n",
            "False\n",
            "False\n",
            "nan\n",
            "False\n"
          ]
        }
      ],
      "source": [
        "print(0 * np.nan)\n",
        "print(np.nan == np.nan)\n",
        "print(np.inf > np.nan)\n",
        "print(np.nan - np.nan)\n",
        "print(0.3 == 3 * 0.1)"
      ]
    },
    {
      "cell_type": "markdown",
      "metadata": {
        "id": "jcee2Kyc1IA_"
      },
      "source": [
        "#### 18. Create a 5x5 matrix with values 1,2,3,4 just below the diagonal (★☆☆) \n",
        "(**hint**: np.diag)"
      ]
    },
    {
      "cell_type": "code",
      "execution_count": 27,
      "metadata": {
        "id": "OPDvSFWI1IA_",
        "colab": {
          "base_uri": "https://localhost:8080/"
        },
        "outputId": "4398b206-afe8-4928-aa25-fe908537c241"
      },
      "outputs": [
        {
          "output_type": "stream",
          "name": "stdout",
          "text": [
            "[[0 0 0 0 0]\n",
            " [1 0 0 0 0]\n",
            " [0 2 0 0 0]\n",
            " [0 0 3 0 0]\n",
            " [0 0 0 4 0]]\n"
          ]
        }
      ],
      "source": [
        "Z = np.diag(1+np.arange(4), k = -1)\n",
        "print (Z)"
      ]
    },
    {
      "cell_type": "markdown",
      "metadata": {
        "id": "IpNeEdFE1IA_"
      },
      "source": [
        "#### 19. Create a 8x8 matrix and fill it with a checkerboard pattern (★☆☆) \n",
        "(**hint**: array\\[::2\\])"
      ]
    },
    {
      "cell_type": "code",
      "execution_count": 28,
      "metadata": {
        "id": "uBorjoUa1IA_",
        "colab": {
          "base_uri": "https://localhost:8080/"
        },
        "outputId": "9706bac9-02fe-47ec-d3c8-7245d509917d"
      },
      "outputs": [
        {
          "output_type": "stream",
          "name": "stdout",
          "text": [
            "[[0 1 0 1 0 1 0 1]\n",
            " [1 0 1 0 1 0 1 0]\n",
            " [0 1 0 1 0 1 0 1]\n",
            " [1 0 1 0 1 0 1 0]\n",
            " [0 1 0 1 0 1 0 1]\n",
            " [1 0 1 0 1 0 1 0]\n",
            " [0 1 0 1 0 1 0 1]\n",
            " [1 0 1 0 1 0 1 0]]\n"
          ]
        }
      ],
      "source": [
        "Z = np.zeros ((8,8), dtype=int)\n",
        "Z[1::2, ::2]= 1\n",
        "Z[::2, 1::2] = 1\n",
        "print (Z)"
      ]
    },
    {
      "cell_type": "markdown",
      "metadata": {
        "id": "146ptC2I1IA_"
      },
      "source": [
        "#### 20. Consider a (6,7,8) shape array, what is the index (x,y,z) of the 100th element? \n",
        "(**hint**: np.unravel_index)"
      ]
    },
    {
      "cell_type": "code",
      "execution_count": 29,
      "metadata": {
        "id": "-8FWldT01IBA",
        "colab": {
          "base_uri": "https://localhost:8080/"
        },
        "outputId": "d9cfa251-327e-4a2a-b6e4-1d081c223b5e"
      },
      "outputs": [
        {
          "output_type": "stream",
          "name": "stdout",
          "text": [
            "(1, 5, 4)\n"
          ]
        }
      ],
      "source": [
        "print (np.unravel_index(100, (6,7,8)))"
      ]
    },
    {
      "cell_type": "markdown",
      "metadata": {
        "id": "XfSkUGIY1IBA"
      },
      "source": [
        "#### 21. Create a checkerboard 8x8 matrix using the tile function (★☆☆) \n",
        "(**hint**: np.tile)"
      ]
    },
    {
      "cell_type": "code",
      "execution_count": 30,
      "metadata": {
        "id": "EJsZ--Cd1IBA",
        "colab": {
          "base_uri": "https://localhost:8080/"
        },
        "outputId": "d7881562-0065-4e59-f497-9fcc48c7b6ce"
      },
      "outputs": [
        {
          "output_type": "stream",
          "name": "stdout",
          "text": [
            "[[0 1 0 1 0 1 0 1]\n",
            " [1 0 1 0 1 0 1 0]\n",
            " [0 1 0 1 0 1 0 1]\n",
            " [1 0 1 0 1 0 1 0]\n",
            " [0 1 0 1 0 1 0 1]\n",
            " [1 0 1 0 1 0 1 0]\n",
            " [0 1 0 1 0 1 0 1]\n",
            " [1 0 1 0 1 0 1 0]]\n"
          ]
        }
      ],
      "source": [
        "array= np.array([[0,1], [1,0]])\n",
        "R= np.tile(array,(4,4))\n",
        "print (R)"
      ]
    },
    {
      "cell_type": "markdown",
      "metadata": {
        "id": "XhHrSE3t1IBA"
      },
      "source": [
        "#### 22. Normalize a 5x5 random matrix (★☆☆) \n",
        "(**hint**: (x - min) / (max - min))"
      ]
    },
    {
      "cell_type": "code",
      "execution_count": 31,
      "metadata": {
        "id": "-WwiNSln1IBA",
        "colab": {
          "base_uri": "https://localhost:8080/"
        },
        "outputId": "28c5540f-6ca1-4389-bc7c-3b37fe813399"
      },
      "outputs": [
        {
          "output_type": "stream",
          "name": "stdout",
          "text": [
            "[[0.68190805 0.81430662 0.63876427 0.38338435 0.27574479]\n",
            " [0.64580099 0.75320545 0.50797086 0.21020219 0.25027899]\n",
            " [0.11178659 0.99452245 0.01206179 0.56764142 1.        ]\n",
            " [0.88126638 0.32683469 0.40983667 0.55484171 0.        ]\n",
            " [0.49042365 0.98951297 0.02953334 0.79618355 0.09859947]]\n"
          ]
        }
      ],
      "source": [
        "Z = np.random.random((5,5))\n",
        "Zmax, Zmin = Z.max(), Z.min()\n",
        "Z= (Z-Zmin)/(Zmax-Zmin)\n",
        "print (Z)"
      ]
    },
    {
      "cell_type": "markdown",
      "metadata": {
        "id": "Yv4PfBC01IBA"
      },
      "source": [
        "#### 23. Create a custom dtype that describes a color as four unsigned bytes (RGBA) (★☆☆) \n",
        "(**hint**: np.dtype)"
      ]
    },
    {
      "cell_type": "code",
      "execution_count": 39,
      "metadata": {
        "collapsed": true,
        "id": "_Z1Q9gQS1IBA",
        "colab": {
          "base_uri": "https://localhost:8080/"
        },
        "outputId": "6c9396ca-7a10-4b13-f934-97cd153aa46d"
      },
      "outputs": [
        {
          "output_type": "stream",
          "name": "stdout",
          "text": [
            "1\n"
          ]
        },
        {
          "output_type": "execute_result",
          "data": {
            "text/plain": [
              "numpy.ndarray"
            ]
          },
          "metadata": {},
          "execution_count": 39
        }
      ],
      "source": [
        "RGBA = np.dtype([('red',np.uint8),('green',np.uint8),('blue',np.uint8),('alpha',np.uint8)])\n",
        "color = np.array((1,2,4,3),dtype = RGBA)\n",
        "print(color['red'])\n",
        "type(color)"
      ]
    },
    {
      "cell_type": "markdown",
      "metadata": {
        "id": "qEVZ8uci1IBA"
      },
      "source": [
        "#### 24. Multiply a 5x3 matrix by a 3x2 matrix (real matrix product) (★☆☆) \n",
        "(**hint**: np.dot | @)"
      ]
    },
    {
      "cell_type": "code",
      "source": [
        "a = np.random.random((5,3))\n",
        "a= np.random.random((3,2))\n",
        "print(arr_1 @ a)\n",
        "np.dot(arr_1,a)"
      ],
      "metadata": {
        "colab": {
          "base_uri": "https://localhost:8080/"
        },
        "id": "g6qxFFJIf0xu",
        "outputId": "8cb1592f-5238-4fca-b209-2be62b882f69"
      },
      "execution_count": 41,
      "outputs": [
        {
          "output_type": "stream",
          "name": "stdout",
          "text": [
            "[[0.2483956  0.5911857 ]\n",
            " [0.17775653 0.12820665]\n",
            " [0.41975532 0.46193832]\n",
            " [0.55976529 1.25930181]\n",
            " [0.23204591 0.51554085]]\n"
          ]
        },
        {
          "output_type": "execute_result",
          "data": {
            "text/plain": [
              "array([[0.2483956 , 0.5911857 ],\n",
              "       [0.17775653, 0.12820665],\n",
              "       [0.41975532, 0.46193832],\n",
              "       [0.55976529, 1.25930181],\n",
              "       [0.23204591, 0.51554085]])"
            ]
          },
          "metadata": {},
          "execution_count": 41
        }
      ]
    },
    {
      "cell_type": "markdown",
      "metadata": {
        "id": "WiVSqpTW1IBA"
      },
      "source": [
        "#### 25. Given a 1D array, negate all elements which are between 3 and 8, in place. (★☆☆) \n",
        "(**hint**: >, <=)"
      ]
    },
    {
      "cell_type": "code",
      "execution_count": 43,
      "metadata": {
        "id": "McORtmO31IBA",
        "colab": {
          "base_uri": "https://localhost:8080/"
        },
        "outputId": "1fae3c79-cc32-4e46-e915-edef1f2332ff"
      },
      "outputs": [
        {
          "output_type": "stream",
          "name": "stdout",
          "text": [
            "[ 0  1  2  3  4  5  6  7  8  9 10 11 12 13 14 15]\n"
          ]
        }
      ],
      "source": [
        "# arr = np.arange(16)\n",
        "# #print(arr>=3)\n",
        "# arr[(arr>=3) & (arr<=8)]*=(-1)\n",
        "# print(arr)\n",
        "\n",
        "arr = np.arange(16)\n",
        "print(arr)"
      ]
    },
    {
      "cell_type": "markdown",
      "metadata": {
        "id": "Gfcz57pe1IBA"
      },
      "source": [
        "#### 26. What is the output of the following script? (★☆☆) \n",
        "(**hint**: np.sum)"
      ]
    },
    {
      "cell_type": "markdown",
      "metadata": {
        "id": "XFbuodxE1IBB"
      },
      "source": [
        "```python\n",
        "# Author: Jake VanderPlas\n",
        "\n",
        "print(sum(range(5),-1))\n",
        "from numpy import *\n",
        "print(sum(range(5),-1))\n",
        "```"
      ]
    },
    {
      "cell_type": "code",
      "execution_count": 44,
      "metadata": {
        "id": "_zTfCuJK1IBB",
        "colab": {
          "base_uri": "https://localhost:8080/"
        },
        "outputId": "f7100b29-13cd-4251-f7d4-17a0b02d9d26"
      },
      "outputs": [
        {
          "output_type": "stream",
          "name": "stdout",
          "text": [
            "9\n",
            "10\n"
          ]
        }
      ],
      "source": [
        "print(sum(range(5),-1))\n",
        "from numpy import *\n",
        "print(sum(range(5),-1))"
      ]
    },
    {
      "cell_type": "markdown",
      "metadata": {
        "id": "nRyDuoYk1IBB"
      },
      "source": [
        "#### 27. Consider an integer vector Z, which of these expressions are legal? (★☆☆)"
      ]
    },
    {
      "cell_type": "markdown",
      "metadata": {
        "id": "nO7GLHTH1IBB"
      },
      "source": [
        "```python\n",
        "Z**Z\n",
        "2 << Z >> 2\n",
        "Z <- Z\n",
        "1j*Z\n",
        "Z/1/1\n",
        "Z<Z>Z\n",
        "```"
      ]
    },
    {
      "cell_type": "code",
      "execution_count": null,
      "metadata": {
        "id": "gzKGyE1y1IBB"
      },
      "outputs": [],
      "source": [
        ""
      ]
    },
    {
      "cell_type": "markdown",
      "metadata": {
        "id": "egf2OS-u1IBB"
      },
      "source": [
        "#### 28. What are the result of the following expressions?"
      ]
    },
    {
      "cell_type": "markdown",
      "metadata": {
        "id": "1nyG9Bu21IBB"
      },
      "source": [
        "```python\n",
        "np.array(0) / np.array(0)\n",
        "np.array(0) // np.array(0)\n",
        "np.array([np.nan]).astype(int).astype(float)\n",
        "```"
      ]
    },
    {
      "cell_type": "code",
      "execution_count": 45,
      "metadata": {
        "id": "K55qB2Hv1IBB",
        "colab": {
          "base_uri": "https://localhost:8080/"
        },
        "outputId": "cf45944b-602e-4add-fb73-6b2f511fab01"
      },
      "outputs": [
        {
          "output_type": "execute_result",
          "data": {
            "text/plain": [
              "array([-9.22337204e+18])"
            ]
          },
          "metadata": {},
          "execution_count": 45
        }
      ],
      "source": [
        "np.array([np.nan]).astype(int).astype(float)"
      ]
    },
    {
      "cell_type": "markdown",
      "metadata": {
        "id": "O54ejGVK1IBB"
      },
      "source": [
        "#### 29. How to round away from zero a float array ? (★☆☆) \n",
        "(**hint**: np.uniform, np.copysign, np.ceil, np.abs)"
      ]
    },
    {
      "cell_type": "code",
      "execution_count": 46,
      "metadata": {
        "id": "3VUVLtJC1IBB",
        "colab": {
          "base_uri": "https://localhost:8080/"
        },
        "outputId": "23eda98f-2e50-424e-a6d2-fb547dfb75f1"
      },
      "outputs": [
        {
          "output_type": "stream",
          "name": "stdout",
          "text": [
            "[[0.6232838  0.95424975 0.32757172 0.54500472 0.02220517]\n",
            " [0.2715607  0.9749161  0.54577818 0.51380383 0.85621161]\n",
            " [0.00609066 0.95332788 0.31934778 0.03580434 0.78803863]\n",
            " [0.84961967 0.98187238 0.59639423 0.55333094 0.89166899]\n",
            " [0.96430739 0.49833294 0.26935881 0.30863802 0.9784628 ]]\n",
            "[[0.62 0.95 0.33 0.55 0.02]\n",
            " [0.27 0.97 0.55 0.51 0.86]\n",
            " [0.01 0.95 0.32 0.04 0.79]\n",
            " [0.85 0.98 0.6  0.55 0.89]\n",
            " [0.96 0.5  0.27 0.31 0.98]]\n"
          ]
        }
      ],
      "source": [
        "arr = np.random.random((5,5))\n",
        "print(arr)\n",
        "arr = np.round(arr,2)\n",
        "print(arr) "
      ]
    },
    {
      "cell_type": "markdown",
      "metadata": {
        "id": "8u9HC2vs1IBB"
      },
      "source": [
        "#### 30. How to find common values between two arrays? (★☆☆) \n",
        "(**hint**: np.intersect1d)"
      ]
    },
    {
      "cell_type": "code",
      "execution_count": 47,
      "metadata": {
        "id": "lt2GD4951IBB",
        "colab": {
          "base_uri": "https://localhost:8080/",
          "height": 130
        },
        "outputId": "1939f0ee-1831-4157-e5af-021bb92a1ca4"
      },
      "outputs": [
        {
          "output_type": "error",
          "ename": "SyntaxError",
          "evalue": "ignored",
          "traceback": [
            "\u001b[0;36m  File \u001b[0;32m\"<ipython-input-47-99a9e98f21f0>\"\u001b[0;36m, line \u001b[0;32m1\u001b[0m\n\u001b[0;31m    def find_common()\u001b[0m\n\u001b[0m                     ^\u001b[0m\n\u001b[0;31mSyntaxError\u001b[0m\u001b[0;31m:\u001b[0m invalid syntax\n"
          ]
        }
      ],
      "source": [
        ""
      ]
    },
    {
      "cell_type": "markdown",
      "metadata": {
        "id": "JqbYrlgd1IBB"
      },
      "source": [
        "#### 31. How to ignore all numpy warnings (not recommended)? (★☆☆) \n",
        "(**hint**: np.seterr, np.errstate)"
      ]
    },
    {
      "cell_type": "code",
      "execution_count": null,
      "metadata": {
        "id": "y2p2er8U1IBB"
      },
      "outputs": [],
      "source": [
        ""
      ]
    },
    {
      "cell_type": "markdown",
      "metadata": {
        "id": "_Ytg5xY01IBC"
      },
      "source": [
        "#### 32. Is the following expressions true? (★☆☆) \n",
        "(**hint**: imaginary number)"
      ]
    },
    {
      "cell_type": "markdown",
      "metadata": {
        "id": "XA-aD5v-1IBC"
      },
      "source": [
        "```python\n",
        "np.sqrt(-1) == np.emath.sqrt(-1)\n",
        "```"
      ]
    },
    {
      "cell_type": "code",
      "execution_count": 48,
      "metadata": {
        "id": "utzt8zlS1IBC",
        "colab": {
          "base_uri": "https://localhost:8080/"
        },
        "outputId": "8899bc71-cb21-4105-82b6-e69cdc53ff05"
      },
      "outputs": [
        {
          "output_type": "stream",
          "name": "stderr",
          "text": [
            "/usr/local/lib/python3.7/dist-packages/ipykernel_launcher.py:1: RuntimeWarning: invalid value encountered in sqrt\n",
            "  \"\"\"Entry point for launching an IPython kernel.\n"
          ]
        },
        {
          "output_type": "execute_result",
          "data": {
            "text/plain": [
              "False"
            ]
          },
          "metadata": {},
          "execution_count": 48
        }
      ],
      "source": [
        "np.sqrt(-1) == np.emath.sqrt(-1)"
      ]
    },
    {
      "cell_type": "markdown",
      "metadata": {
        "id": "cSZICMzY1IBC"
      },
      "source": [
        "#### 33. How to get the dates of yesterday, today and tomorrow? (★☆☆) \n",
        "(**hint**: np.datetime64, np.timedelta64)"
      ]
    },
    {
      "cell_type": "code",
      "execution_count": 50,
      "metadata": {
        "collapsed": true,
        "id": "gW-cufnb1IBC",
        "colab": {
          "base_uri": "https://localhost:8080/"
        },
        "outputId": "4d9533ea-577d-4f90-9285-6fc772d8e03f"
      },
      "outputs": [
        {
          "output_type": "stream",
          "name": "stdout",
          "text": [
            "2022-08-14\n",
            "2022-08-15\n",
            "2022-08-16\n"
          ]
        }
      ],
      "source": [
        "yesterday = np.datetime64('today', 'D') - np.timedelta64(1, 'D')\n",
        "today     = np.datetime64('today', 'D')\n",
        "tomorrow  = np.datetime64('today', 'D') + np.timedelta64(1, 'D')\n",
        "print(yesterday)\n",
        "print(today)\n",
        "print(tomorrow)"
      ]
    },
    {
      "cell_type": "markdown",
      "metadata": {
        "id": "qJDl41MP1IBC"
      },
      "source": [
        "#### 34. How to get all the dates corresponding to the month of July 2016? (★★☆) \n",
        "(**hint**: np.arange(dtype=datetime64\\['D'\\]))"
      ]
    },
    {
      "cell_type": "code",
      "execution_count": 51,
      "metadata": {
        "id": "rJXhRHIi1IBC",
        "colab": {
          "base_uri": "https://localhost:8080/"
        },
        "outputId": "15fe65f0-8a9b-4ada-963e-e6d3420d3ac8"
      },
      "outputs": [
        {
          "output_type": "stream",
          "name": "stdout",
          "text": [
            "['2016-07-01' '2016-07-02' '2016-07-03' '2016-07-04' '2016-07-05'\n",
            " '2016-07-06' '2016-07-07' '2016-07-08' '2016-07-09' '2016-07-10'\n",
            " '2016-07-11' '2016-07-12' '2016-07-13' '2016-07-14' '2016-07-15'\n",
            " '2016-07-16' '2016-07-17' '2016-07-18' '2016-07-19' '2016-07-20'\n",
            " '2016-07-21' '2016-07-22' '2016-07-23' '2016-07-24' '2016-07-25'\n",
            " '2016-07-26' '2016-07-27' '2016-07-28' '2016-07-29' '2016-07-30'\n",
            " '2016-07-31']\n"
          ]
        }
      ],
      "source": [
        "Z = np.arange('2016-07', '2016-08', dtype='datetime64[D]')\n",
        "print(Z)"
      ]
    },
    {
      "cell_type": "markdown",
      "metadata": {
        "id": "lSxr1Q_41IBC"
      },
      "source": [
        "#### 35. How to compute ((A+B)\\*(-A/2)) in place (without copy)? (★★☆) \n",
        "(**hint**: np.add(out=), np.negative(out=), np.multiply(out=), np.divide(out=))"
      ]
    },
    {
      "cell_type": "code",
      "execution_count": 53,
      "metadata": {
        "id": "KYXRc_Or1IBC",
        "colab": {
          "base_uri": "https://localhost:8080/"
        },
        "outputId": "5fd0992f-883e-4712-bae2-95204c0e672f"
      },
      "outputs": [
        {
          "output_type": "execute_result",
          "data": {
            "text/plain": [
              "-4.5"
            ]
          },
          "metadata": {},
          "execution_count": 53
        }
      ],
      "source": [
        "import numpy as np\n",
        "A = np.ones(3)*1\n",
        "B = np.ones(3)*2\n",
        "C = np.ones(3)*3\n",
        "np.add(A,B,out=B)\n",
        "np.divide(A,2,out=A)\n",
        "np.negative(A,out=A)\n",
        "np.dot(A,B)"
      ]
    },
    {
      "cell_type": "markdown",
      "metadata": {
        "id": "Zyf6wG8R1IBC"
      },
      "source": [
        "#### 36. Extract the integer part of a random array using 5 different methods (★★☆) \n",
        "(**hint**: %, np.floor, np.ceil, astype, np.trunc)"
      ]
    },
    {
      "cell_type": "code",
      "source": [
        "Z = np.random.uniform(0,10,10)\n",
        "\n",
        "print (Z - Z%1)\n",
        "print (np.floor(Z))\n",
        "print (np.ceil(Z)-1)\n",
        "print (Z.astype(int))\n",
        "print (np.trunc(Z))"
      ],
      "metadata": {
        "colab": {
          "base_uri": "https://localhost:8080/"
        },
        "id": "5zM9Kd4xocSG",
        "outputId": "b09de7b7-5327-45e7-af75-1cd7e4671a97"
      },
      "execution_count": 55,
      "outputs": [
        {
          "output_type": "stream",
          "name": "stdout",
          "text": [
            "[0. 0. 8. 2. 7. 5. 4. 0. 5. 7.]\n",
            "[0. 0. 8. 2. 7. 5. 4. 0. 5. 7.]\n",
            "[0. 0. 8. 2. 7. 5. 4. 0. 5. 7.]\n",
            "[0 0 8 2 7 5 4 0 5 7]\n",
            "[0. 0. 8. 2. 7. 5. 4. 0. 5. 7.]\n"
          ]
        }
      ]
    },
    {
      "cell_type": "markdown",
      "metadata": {
        "id": "WOUuc2u71IBC"
      },
      "source": [
        "#### 37. Create a 5x5 matrix with row values ranging from 0 to 4 (★★☆) \n",
        "(**hint**: np.arange)"
      ]
    },
    {
      "cell_type": "code",
      "execution_count": 56,
      "metadata": {
        "id": "OeYV7mEw1IBC",
        "colab": {
          "base_uri": "https://localhost:8080/"
        },
        "outputId": "8f7121aa-6b5a-474f-cbd8-7f71c1c43f59"
      },
      "outputs": [
        {
          "output_type": "stream",
          "name": "stdout",
          "text": [
            "[[0. 1. 2. 3. 4.]\n",
            " [0. 1. 2. 3. 4.]\n",
            " [0. 1. 2. 3. 4.]\n",
            " [0. 1. 2. 3. 4.]\n",
            " [0. 1. 2. 3. 4.]]\n"
          ]
        }
      ],
      "source": [
        "Z = np.zeros((5,5))\n",
        "Z += np.arange(5)\n",
        "print(Z)"
      ]
    },
    {
      "cell_type": "markdown",
      "metadata": {
        "id": "zgrWxfgC1IBD"
      },
      "source": [
        "#### 38. Consider a generator function that generates 10 integers and use it to build an array (★☆☆) \n",
        "(**hint**: np.fromiter)"
      ]
    },
    {
      "cell_type": "code",
      "execution_count": 57,
      "metadata": {
        "id": "2fkFlIgC1IBD",
        "colab": {
          "base_uri": "https://localhost:8080/"
        },
        "outputId": "a3715a67-ec9e-4d5a-d9c2-8cd5e119ed07"
      },
      "outputs": [
        {
          "output_type": "stream",
          "name": "stdout",
          "text": [
            "[0. 1. 2. 3. 4. 5. 6. 7. 8. 9.]\n"
          ]
        }
      ],
      "source": [
        "def generate():\n",
        "    for x in range(10):\n",
        "        yield x\n",
        "Z = np.fromiter(generate(),dtype=float,count=-1)\n",
        "print(Z)"
      ]
    },
    {
      "cell_type": "markdown",
      "metadata": {
        "id": "EGk5kLMW1IBD"
      },
      "source": [
        "#### 39. Create a vector of size 10 with values ranging from 0 to 1, both excluded (★★☆) \n",
        "(**hint**: np.linspace)"
      ]
    },
    {
      "cell_type": "code",
      "execution_count": 58,
      "metadata": {
        "id": "FB5gc2YY1IBD",
        "colab": {
          "base_uri": "https://localhost:8080/"
        },
        "outputId": "a328a663-8350-41e3-fcee-3fa45625cf83"
      },
      "outputs": [
        {
          "output_type": "stream",
          "name": "stdout",
          "text": [
            "[0.09090909 0.18181818 0.27272727 0.36363636 0.45454545 0.54545455\n",
            " 0.63636364 0.72727273 0.81818182 0.90909091]\n"
          ]
        }
      ],
      "source": [
        "Z = np.linspace(0,1,11,endpoint=False)[1:]\n",
        "print(Z)"
      ]
    },
    {
      "cell_type": "markdown",
      "metadata": {
        "id": "4Hji9O8f1IBD"
      },
      "source": [
        "#### 40. Create a random vector of size 10 and sort it (★★☆) \n",
        "(**hint**: sort)"
      ]
    },
    {
      "cell_type": "code",
      "execution_count": 59,
      "metadata": {
        "id": "pXdfZX4s1IBD",
        "colab": {
          "base_uri": "https://localhost:8080/"
        },
        "outputId": "16456a86-aeac-45cf-ac42-572dce43735f"
      },
      "outputs": [
        {
          "output_type": "stream",
          "name": "stdout",
          "text": [
            "[0.04629733 0.16269983 0.37867434 0.49288954 0.52380674 0.55755772\n",
            " 0.59298443 0.67950368 0.93360846 0.99916014]\n"
          ]
        }
      ],
      "source": [
        "Z = np.random.random(10)\n",
        "Z.sort()\n",
        "print(Z)"
      ]
    },
    {
      "cell_type": "markdown",
      "metadata": {
        "id": "pH_46kEL1IBD"
      },
      "source": [
        "#### 41. How to sum a small array faster than np.sum? (★★☆) \n",
        "(**hint**: np.add.reduce)"
      ]
    },
    {
      "cell_type": "code",
      "execution_count": 60,
      "metadata": {
        "id": "tzGInkw61IBD",
        "colab": {
          "base_uri": "https://localhost:8080/"
        },
        "outputId": "8bcc28d4-e957-4905-98c9-1a8f3a7eacd6"
      },
      "outputs": [
        {
          "output_type": "execute_result",
          "data": {
            "text/plain": [
              "45"
            ]
          },
          "metadata": {},
          "execution_count": 60
        }
      ],
      "source": [
        "import numpy as np\n",
        "import functools as ft\n",
        "Z = np.arange(10)\n",
        "#np.add.reduce(Z)\n",
        "ft.reduce(np.add,Z,0)"
      ]
    },
    {
      "cell_type": "markdown",
      "metadata": {
        "id": "6QJX_ZCo1IBD"
      },
      "source": [
        "#### 42. Consider two random array A and B, check if they are equal (★★☆) \n",
        "(**hint**: np.allclose, np.array\\_equal)"
      ]
    },
    {
      "cell_type": "code",
      "execution_count": 61,
      "metadata": {
        "id": "oOzb_myH1IBD",
        "colab": {
          "base_uri": "https://localhost:8080/"
        },
        "outputId": "6fae8059-5b5f-4676-9637-1d88e358ffb4"
      },
      "outputs": [
        {
          "output_type": "stream",
          "name": "stdout",
          "text": [
            "[1 0 1 0 1]\n",
            "************************************************************\n",
            "[1 1 1 1 0]\n",
            "************************************************************\n",
            "False\n",
            "False\n"
          ]
        }
      ],
      "source": [
        "A = np.random.randint(0,2,5)\n",
        "B = np.random.randint(0,2,5)\n",
        "print(A)\n",
        "print('*'*60)\n",
        "print(B)\n",
        "print('*'*60)\n",
        "equal = np.allclose(A,B)\n",
        "print(equal)\n",
        "equal = np.array_equal(A,B)\n",
        "print(equal)"
      ]
    },
    {
      "cell_type": "markdown",
      "metadata": {
        "id": "0dC3Mjsx1IBD"
      },
      "source": [
        "#### 43. Make an array immutable (read-only) (★★☆) \n",
        "(**hint**: flags.writeable)"
      ]
    },
    {
      "cell_type": "code",
      "execution_count": null,
      "metadata": {
        "id": "8kUuUZul1IBD"
      },
      "outputs": [],
      "source": [
        ""
      ]
    },
    {
      "cell_type": "markdown",
      "metadata": {
        "id": "dYsq3x-I1IBD"
      },
      "source": [
        "#### 44. Consider a random 10x2 matrix representing cartesian coordinates, convert them to polar coordinates (★★☆) \n",
        "(**hint**: np.sqrt, np.arctan2)"
      ]
    },
    {
      "cell_type": "code",
      "execution_count": 62,
      "metadata": {
        "id": "Y2p53yyf1IBE",
        "colab": {
          "base_uri": "https://localhost:8080/"
        },
        "outputId": "07a57792-a73d-4a5d-abe7-0d3b577241b5"
      },
      "outputs": [
        {
          "output_type": "stream",
          "name": "stdout",
          "text": [
            "[[4.12310563 1.32581766]\n",
            " [7.07106781 1.42889927]\n",
            " [5.         1.57079633]\n",
            " [7.81024968 0.87605805]\n",
            " [1.41421356 0.78539816]\n",
            " [7.21110255 0.98279372]\n",
            " [1.         0.        ]\n",
            " [5.         0.        ]\n",
            " [9.21954446 0.86217005]\n",
            " [6.         0.        ]]\n"
          ]
        }
      ],
      "source": [
        "import numpy as np\n",
        "z= np.random.randint(0,9,(10,2))\n",
        "x,y = z[:,0], z[:,1]\n",
        "r = np.sqrt(x**2+y**2)\n",
        "t = np.arctan2(y,x)\n",
        "poles = np.c_[r,t]\n",
        "print(poles)"
      ]
    },
    {
      "cell_type": "markdown",
      "metadata": {
        "id": "h9XTCfMf1IBE"
      },
      "source": [
        "#### 45. Create random vector of size 10 and replace the maximum value by 0 (★★☆) \n",
        "(**hint**: argmax)"
      ]
    },
    {
      "cell_type": "code",
      "execution_count": 63,
      "metadata": {
        "id": "y06DGL_C1IBE",
        "colab": {
          "base_uri": "https://localhost:8080/"
        },
        "outputId": "036d58b1-29f8-47fb-e73d-27d5d8d1e8bc"
      },
      "outputs": [
        {
          "output_type": "stream",
          "name": "stdout",
          "text": [
            "[0.43561432 0.18204403 0.72086433 0.17032358 0.60177276 0.26064526\n",
            " 0.94246782 0.15437343 0.19960494 0.22821417]\n",
            "[0.43561432 0.18204403 0.72086433 0.17032358 0.60177276 0.26064526\n",
            " 0.         0.15437343 0.19960494 0.22821417]\n"
          ]
        }
      ],
      "source": [
        "arr = np.random.random(10)\n",
        "print(arr)\n",
        "arr[arr.argmax()] = 0\n",
        "print(arr)"
      ]
    },
    {
      "cell_type": "markdown",
      "metadata": {
        "id": "t1DkUKfo1IBE"
      },
      "source": [
        "#### 46. Create a structured array with `x` and `y` coordinates covering the \\[0,1\\]x\\[0,1\\] area (★★☆) \n",
        "(**hint**: np.meshgrid)"
      ]
    },
    {
      "cell_type": "code",
      "execution_count": null,
      "metadata": {
        "id": "XH_OKply1IBE"
      },
      "outputs": [],
      "source": [
        ""
      ]
    },
    {
      "cell_type": "markdown",
      "metadata": {
        "id": "1KnJTZn41IBE"
      },
      "source": [
        "####  47. Given two arrays, X and Y, construct the Cauchy matrix C (Cij =1/(xi - yj)) \n",
        "(**hint**: np.subtract.outer)"
      ]
    },
    {
      "cell_type": "code",
      "execution_count": 65,
      "metadata": {
        "id": "MFlAyBKi1IBE",
        "colab": {
          "base_uri": "https://localhost:8080/"
        },
        "outputId": "b11eef1d-8de2-4ed5-ce7c-6eb16baef8bb"
      },
      "outputs": [
        {
          "output_type": "execute_result",
          "data": {
            "text/plain": [
              "array([[0.06666667, 0.08333333, 0.05882353, 0.1       , 0.08333333,\n",
              "        0.09090909, 0.125     , 0.07142857, 0.07692308, 0.06666667],\n",
              "       [0.07142857, 0.09090909, 0.0625    , 0.11111111, 0.09090909,\n",
              "        0.1       , 0.14285714, 0.07692308, 0.08333333, 0.07142857],\n",
              "       [0.07692308, 0.1       , 0.06666667, 0.125     , 0.1       ,\n",
              "        0.11111111, 0.16666667, 0.08333333, 0.09090909, 0.07692308],\n",
              "       [0.05263158, 0.0625    , 0.04761905, 0.07142857, 0.0625    ,\n",
              "        0.06666667, 0.08333333, 0.05555556, 0.05882353, 0.05263158],\n",
              "       [0.07692308, 0.1       , 0.06666667, 0.125     , 0.1       ,\n",
              "        0.11111111, 0.16666667, 0.08333333, 0.09090909, 0.07692308],\n",
              "       [0.05263158, 0.0625    , 0.04761905, 0.07142857, 0.0625    ,\n",
              "        0.06666667, 0.08333333, 0.05555556, 0.05882353, 0.05263158],\n",
              "       [0.08333333, 0.11111111, 0.07142857, 0.14285714, 0.11111111,\n",
              "        0.125     , 0.2       , 0.09090909, 0.1       , 0.08333333],\n",
              "       [0.05555556, 0.06666667, 0.05      , 0.07692308, 0.06666667,\n",
              "        0.07142857, 0.09090909, 0.05882353, 0.0625    , 0.05555556],\n",
              "       [0.1       , 0.14285714, 0.08333333, 0.2       , 0.14285714,\n",
              "        0.16666667, 0.33333333, 0.11111111, 0.125     , 0.1       ],\n",
              "       [0.05263158, 0.0625    , 0.04761905, 0.07142857, 0.0625    ,\n",
              "        0.06666667, 0.08333333, 0.05555556, 0.05882353, 0.05263158]])"
            ]
          },
          "metadata": {},
          "execution_count": 65
        }
      ],
      "source": [
        "Y = np.random.randint(0,11,10)\n",
        "X = np.random.randint(11,22,10)\n",
        "Y = np.tile(Y,(10,1))\n",
        "X  = np.tile(X,(10,1)).T\n",
        "C = 1/(X - Y)\n",
        "C"
      ]
    },
    {
      "cell_type": "markdown",
      "metadata": {
        "id": "Pnt11l8-1IBE"
      },
      "source": [
        "#### 48. Print the minimum and maximum representable value for each numpy scalar type (★★☆) \n",
        "(**hint**: np.iinfo, np.finfo, eps)"
      ]
    },
    {
      "cell_type": "code",
      "execution_count": 67,
      "metadata": {
        "id": "7dLDlJ-u1IBE",
        "colab": {
          "base_uri": "https://localhost:8080/"
        },
        "outputId": "00bd4c55-82df-4283-99fc-0c2a68ab6576"
      },
      "outputs": [
        {
          "output_type": "stream",
          "name": "stdout",
          "text": [
            "-128\n",
            "127\n",
            "-2147483648\n",
            "2147483647\n",
            "-9223372036854775808\n",
            "9223372036854775807\n",
            "-3.4028235e+38\n",
            "3.4028235e+38\n",
            "1.1920929e-07\n",
            "-1.7976931348623157e+308\n",
            "1.7976931348623157e+308\n",
            "2.220446049250313e-16\n"
          ]
        }
      ],
      "source": [
        "for dtype in [np.int8, np.int32, np.int64]:\n",
        "    print(np.iinfo(dtype).min)\n",
        "    print(np.iinfo(dtype).max)\n",
        "for dtype in [np.float32, np.float64]:\n",
        "    print(np.finfo(dtype).min)\n",
        "    print(np.finfo(dtype).max)\n",
        "    print(np.finfo(dtype).eps)\n"
      ]
    },
    {
      "cell_type": "markdown",
      "metadata": {
        "id": "KgJypWYb1IBE"
      },
      "source": [
        "#### 49. How to print all the values of an array? (★★☆) \n",
        "(**hint**: np.set\\_printoptions)"
      ]
    },
    {
      "cell_type": "code",
      "execution_count": 68,
      "metadata": {
        "id": "G9soOrj81IBE",
        "colab": {
          "base_uri": "https://localhost:8080/"
        },
        "outputId": "aed1dd87-186e-49e6-a713-053c5621b12c"
      },
      "outputs": [
        {
          "output_type": "stream",
          "name": "stdout",
          "text": [
            "[]\n"
          ]
        }
      ],
      "source": [
        "Z = []\n",
        "print(Z)"
      ]
    },
    {
      "cell_type": "markdown",
      "metadata": {
        "id": "5ZRVSwUJ1IBE"
      },
      "source": [
        "#### 50. How to find the closest value (to a given scalar) in a vector? (★★☆) \n",
        "(**hint**: argmin)"
      ]
    },
    {
      "cell_type": "code",
      "execution_count": 69,
      "metadata": {
        "id": "CHGQ2AIl1IBE",
        "colab": {
          "base_uri": "https://localhost:8080/"
        },
        "outputId": "947ce242-b84f-4a84-b253-7e954de061f8"
      },
      "outputs": [
        {
          "output_type": "stream",
          "name": "stdout",
          "text": [
            "[0.13694988 3.51437457 0.79877766 2.99381047 6.35372451 1.65713099\n",
            " 7.81362622 2.90390647 0.12615123 4.46895377]\n",
            "4.468953766702252\n"
          ]
        }
      ],
      "source": [
        "arr = np.random.uniform(0,10,10)\n",
        "scal = 5\n",
        "arr_1 = np.abs(arr - 5)\n",
        "ind = arr_1.argmin()\n",
        "print(arr)\n",
        "print(arr[ind])"
      ]
    },
    {
      "cell_type": "markdown",
      "metadata": {
        "id": "791bFE6V1IBE"
      },
      "source": [
        "#### 51. Create a structured array representing a position (x,y) and a color (r,g,b) (★★☆) \n",
        "(**hint**: dtype)"
      ]
    },
    {
      "cell_type": "code",
      "execution_count": 70,
      "metadata": {
        "id": "SgxN4K621IBE",
        "colab": {
          "base_uri": "https://localhost:8080/"
        },
        "outputId": "dbf03c0c-3fbd-4bf3-a820-a07b23c0a2d4"
      },
      "outputs": [
        {
          "output_type": "stream",
          "name": "stdout",
          "text": [
            "[((0., 0.), (0., 0., 0.)) ((0., 0.), (0., 0., 0.))\n",
            " ((0., 0.), (0., 0., 0.)) ((0., 0.), (0., 0., 0.))\n",
            " ((0., 0.), (0., 0., 0.)) ((0., 0.), (0., 0., 0.))\n",
            " ((0., 0.), (0., 0., 0.)) ((0., 0.), (0., 0., 0.))\n",
            " ((0., 0.), (0., 0., 0.)) ((0., 0.), (0., 0., 0.))]\n"
          ]
        }
      ],
      "source": [
        "import numpy as np\n",
        "Z = np.zeros(10, [ ('position', [ ('x', float),\n",
        "                                  ('y', float)]),\n",
        "                   ('color',    [ ('r', float),\n",
        "                                  ('g', float),\n",
        "                                  ('b', float)])])\n",
        "print(Z)"
      ]
    },
    {
      "cell_type": "markdown",
      "metadata": {
        "id": "86OLlkYj1IBF"
      },
      "source": [
        "#### 52. Consider a random vector with shape (100,2) representing coordinates, find point by point distances (★★☆) \n",
        "(**hint**: np.atleast\\_2d, T, np.sqrt)"
      ]
    },
    {
      "cell_type": "code",
      "execution_count": null,
      "metadata": {
        "id": "a8m_YTgs1IBF"
      },
      "outputs": [],
      "source": [
        ""
      ]
    },
    {
      "cell_type": "markdown",
      "metadata": {
        "id": "oXELxDag1IBF"
      },
      "source": [
        "#### 53. How to convert a float (32 bits) array into an integer (32 bits) in place? \n",
        "(**hint**: astype(copy=False))"
      ]
    },
    {
      "cell_type": "code",
      "execution_count": 71,
      "metadata": {
        "id": "Cql5_XEi1IBF",
        "colab": {
          "base_uri": "https://localhost:8080/"
        },
        "outputId": "4ac636ed-1ca2-42d6-c49f-f60075f64fed"
      },
      "outputs": [
        {
          "output_type": "stream",
          "name": "stdout",
          "text": [
            "[2. 1. 2. 3. 4. 5. 6. 7. 8. 9.]\n"
          ]
        }
      ],
      "source": [
        "Z = np.arange(10, dtype=np.float32)\n",
        "Z_1 = Z.astype(np.float32, copy=False)\n",
        "Z_1[0] = 2\n",
        "print(Z)"
      ]
    },
    {
      "cell_type": "markdown",
      "metadata": {
        "id": "pMdm9fE71IBF"
      },
      "source": [
        "#### 54. How to read the following file? (★★☆) \n",
        "(**hint**: np.genfromtxt)"
      ]
    },
    {
      "cell_type": "markdown",
      "metadata": {
        "id": "jlvx8sF71IBF"
      },
      "source": [
        "```\n",
        "1, 2, 3, 4, 5\n",
        "6,  ,  , 7, 8\n",
        " ,  , 9,10,11\n",
        "```"
      ]
    },
    {
      "cell_type": "code",
      "execution_count": 72,
      "metadata": {
        "id": "D7RT9kyS1IBF",
        "colab": {
          "base_uri": "https://localhost:8080/"
        },
        "outputId": "ecc7b1f6-8cc4-4800-b1dc-e67b487d5029"
      },
      "outputs": [
        {
          "output_type": "stream",
          "name": "stdout",
          "text": [
            "[[ 1  2  3  4  5]\n",
            " [ 6 -1 -1  7  8]\n",
            " [-1 -1  9 10 11]]\n"
          ]
        },
        {
          "output_type": "stream",
          "name": "stderr",
          "text": [
            "/usr/local/lib/python3.7/dist-packages/ipykernel_launcher.py:5: DeprecationWarning: `np.int` is a deprecated alias for the builtin `int`. To silence this warning, use `int` by itself. Doing this will not modify any behavior and is safe. When replacing `np.int`, you may wish to use e.g. `np.int64` or `np.int32` to specify the precision. If you wish to review your current use, check the release note link for additional information.\n",
            "Deprecated in NumPy 1.20; for more details and guidance: https://numpy.org/devdocs/release/1.20.0-notes.html#deprecations\n",
            "  \"\"\"\n"
          ]
        }
      ],
      "source": [
        "from io import StringIO\n",
        "s = StringIO(\"\"\"1, 2, 3, 4, 5\\n\n",
        "                6,  ,  , 7, 8\\n\n",
        "                 ,  , 9,10,11\\n\"\"\")\n",
        "Z = np.genfromtxt(s, delimiter=\",\", dtype=np.int)\n",
        "print(Z)"
      ]
    },
    {
      "cell_type": "markdown",
      "metadata": {
        "id": "NXbdOdgy1IBF"
      },
      "source": [
        "#### 55. What is the equivalent of enumerate for numpy arrays? (★★☆) \n",
        "(**hint**: np.ndenumerate, np.ndindex)"
      ]
    },
    {
      "cell_type": "code",
      "execution_count": 73,
      "metadata": {
        "id": "cgKkZ43A1IBF",
        "colab": {
          "base_uri": "https://localhost:8080/"
        },
        "outputId": "2dcc7bbf-89d4-4a5d-e970-85db5bdf3425"
      },
      "outputs": [
        {
          "output_type": "stream",
          "name": "stdout",
          "text": [
            "(0, 0) 0\n",
            "(0, 1) 1\n",
            "(0, 2) 2\n",
            "(1, 0) 3\n",
            "(1, 1) 4\n",
            "(1, 2) 5\n",
            "(2, 0) 6\n",
            "(2, 1) 7\n",
            "(2, 2) 8\n",
            "(0, 0) 0\n",
            "(0, 1) 1\n",
            "(0, 2) 2\n",
            "(1, 0) 3\n",
            "(1, 1) 4\n",
            "(1, 2) 5\n",
            "(2, 0) 6\n",
            "(2, 1) 7\n",
            "(2, 2) 8\n"
          ]
        }
      ],
      "source": [
        "Z = np.arange(9).reshape(3,3)\n",
        "for index, value in np.ndenumerate(Z):\n",
        "    print(index, value)\n",
        "for index in np.ndindex(Z.shape):\n",
        "    print(index, Z[index])\n",
        "    "
      ]
    },
    {
      "cell_type": "markdown",
      "metadata": {
        "id": "l086mZOs1IBF"
      },
      "source": [
        "#### 56. Generate a generic 2D Gaussian-like array (★★☆) \n",
        "(**hint**: np.meshgrid, np.exp)"
      ]
    },
    {
      "cell_type": "code",
      "execution_count": null,
      "metadata": {
        "id": "3vfFm0PI1IBF"
      },
      "outputs": [],
      "source": [
        ""
      ]
    },
    {
      "cell_type": "markdown",
      "metadata": {
        "id": "hrMx8k8n1IBF"
      },
      "source": [
        "#### 57. How to randomly place p elements in a 2D array? (★★☆) \n",
        "(**hint**: np.put, np.random.choice)"
      ]
    },
    {
      "cell_type": "code",
      "execution_count": 75,
      "metadata": {
        "id": "8vzantSR1IBF",
        "colab": {
          "base_uri": "https://localhost:8080/"
        },
        "outputId": "ddfdbde0-a435-410b-a2f5-114168c3a4b4"
      },
      "outputs": [
        {
          "output_type": "stream",
          "name": "stdout",
          "text": [
            "[[0 1 2]\n",
            " [3 4 5]\n",
            " [6 1 8]]\n"
          ]
        }
      ],
      "source": [
        "np.put(Z,7,1)\n",
        "print(Z)"
      ]
    },
    {
      "cell_type": "markdown",
      "metadata": {
        "id": "LI7MiCDX1IBG"
      },
      "source": [
        "#### 58. Subtract the mean of each row of a matrix (★★☆) \n",
        "(**hint**: mean(axis=,keepdims=))"
      ]
    },
    {
      "cell_type": "code",
      "execution_count": 76,
      "metadata": {
        "id": "tMbhcEv91IBG",
        "colab": {
          "base_uri": "https://localhost:8080/"
        },
        "outputId": "7682d23f-fc6c-4673-dcbd-87d9172eee20"
      },
      "outputs": [
        {
          "output_type": "execute_result",
          "data": {
            "text/plain": [
              "array([[ True],\n",
              "       [ True],\n",
              "       [ True],\n",
              "       [ True],\n",
              "       [ True]])"
            ]
          },
          "metadata": {},
          "execution_count": 76
        }
      ],
      "source": [
        "X = np.random.rand(5, 10)\n",
        "Y = X - X.mean(axis = 1,keepdims = True)\n",
        "#print(Y)\n",
        "X.mean(axis = 1).reshape(-1,1) == X.mean(axis = 1,keepdims =True)"
      ]
    },
    {
      "cell_type": "markdown",
      "metadata": {
        "id": "kzXppp6n1IBG"
      },
      "source": [
        "#### 59. How to sort an array by the nth column? (★★☆) \n",
        "(**hint**: argsort)"
      ]
    },
    {
      "cell_type": "code",
      "execution_count": 77,
      "metadata": {
        "id": "SV6vueDo1IBG",
        "colab": {
          "base_uri": "https://localhost:8080/"
        },
        "outputId": "59969f8f-64cc-4681-b914-4bec60c20c4a"
      },
      "outputs": [
        {
          "output_type": "stream",
          "name": "stdout",
          "text": [
            "[[0 2 7 6 1]\n",
            " [0 8 2 7 5]\n",
            " [9 9 3 3 5]\n",
            " [8 5 1 1 0]\n",
            " [0 5 0 5 7]]\n",
            "[[9 9 3 3 5]\n",
            " [0 8 2 7 5]\n",
            " [8 5 1 1 0]\n",
            " [0 5 0 5 7]\n",
            " [0 2 7 6 1]]\n",
            "[[0 7 1 6 2]\n",
            " [0 2 5 7 8]\n",
            " [9 3 5 3 9]\n",
            " [8 1 0 1 5]\n",
            " [0 0 7 5 5]]\n"
          ]
        }
      ],
      "source": [
        "Z = np.random.randint(0,10,(5,5))\n",
        "print(Z)\n",
        "print(Z[(-Z)[:,1].argsort()])\n",
        "print(Z[:,Z[1,:].argsort()])"
      ]
    },
    {
      "cell_type": "markdown",
      "metadata": {
        "id": "jTC7Xhe11IBG"
      },
      "source": [
        "#### 60. How to tell if a given 2D array has null columns? (★★☆) \n",
        "(**hint**: any, ~)"
      ]
    },
    {
      "cell_type": "code",
      "execution_count": 78,
      "metadata": {
        "id": "hXIfmEAp1IBG",
        "colab": {
          "base_uri": "https://localhost:8080/"
        },
        "outputId": "8b06935a-4e8f-4e37-c4b1-027bfeb0f64d"
      },
      "outputs": [
        {
          "output_type": "stream",
          "name": "stdout",
          "text": [
            "[[ True False  True  True  True False  True  True  True False]\n",
            " [False False False False  True  True False False  True False]\n",
            " [False False False False  True False False  True False  True]]\n",
            "[[False  True False False False  True False False False  True]\n",
            " [ True  True  True  True False False  True  True False  True]\n",
            " [ True  True  True  True False  True  True False  True False]]\n"
          ]
        },
        {
          "output_type": "execute_result",
          "data": {
            "text/plain": [
              "array([ True, False,  True,  True,  True,  True,  True,  True,  True,\n",
              "        True])"
            ]
          },
          "metadata": {},
          "execution_count": 78
        }
      ],
      "source": [
        "Z = np.random.randint(0,3,(3,10))\n",
        "Z[:,1] = 0\n",
        "Z = Z.astype(bool)\n",
        "print(Z)\n",
        "print(~Z)\n",
        "(Z).any(axis = 0)"
      ]
    },
    {
      "cell_type": "markdown",
      "metadata": {
        "id": "uPie3jRP1IBG"
      },
      "source": [
        "#### 61. Find the nearest value from a given value in an array (★★☆) \n",
        "(**hint**: np.abs, argmin, flat)"
      ]
    },
    {
      "cell_type": "code",
      "execution_count": 80,
      "metadata": {
        "id": "R3aWPst91IBG",
        "colab": {
          "base_uri": "https://localhost:8080/"
        },
        "outputId": "d29d4fa0-3541-4203-ae29-2c920a35dd9b"
      },
      "outputs": [
        {
          "output_type": "stream",
          "name": "stdout",
          "text": [
            "Array is :  [8 7 1 5 3 4]\n",
            "Value to which nearest element is to be found:  2\n",
            "Nearest element to the given values is :  1\n"
          ]
        }
      ],
      "source": [
        "import numpy as np\n",
        "  \n",
        "  \n",
        "arr = np.array([8, 7, 1, 5, 3, 4])\n",
        "print(\"Array is : \", arr)\n",
        "x = 2\n",
        "print(\"Value to which nearest element is to be found: \", x)\n",
        "difference_array = np.absolute(arr-x)\n",
        "index = difference_array.argmin()\n",
        "print(\"Nearest element to the given values is : \", arr[index])\n"
      ]
    },
    {
      "cell_type": "markdown",
      "metadata": {
        "id": "pkFILync1IBG"
      },
      "source": [
        "#### 62. Considering two arrays with shape (1,3) and (3,1), how to compute their sum using an iterator? (★★☆) \n",
        "(**hint**: np.nditer)"
      ]
    },
    {
      "cell_type": "code",
      "execution_count": 81,
      "metadata": {
        "id": "JK9iWKvk1IBG",
        "colab": {
          "base_uri": "https://localhost:8080/"
        },
        "outputId": "0142584a-768f-4939-f5b7-18a9982a1287"
      },
      "outputs": [
        {
          "output_type": "stream",
          "name": "stdout",
          "text": [
            "[[0 1 2]\n",
            " [1 2 3]\n",
            " [2 3 4]]\n"
          ]
        }
      ],
      "source": [
        "A = np.arange(3).reshape(3,1)\n",
        "B = np.arange(3).reshape(1,3)\n",
        "it = np.nditer([A,B,None])\n",
        "for x,y,z in it: z[...] = x + y\n",
        "print(it.operands[2])"
      ]
    },
    {
      "cell_type": "markdown",
      "metadata": {
        "id": "ZwntoBHF1IBG"
      },
      "source": [
        "#### 63. Create an array class that has a name attribute (★★☆) \n",
        "(**hint**: class method)"
      ]
    },
    {
      "cell_type": "code",
      "execution_count": 82,
      "metadata": {
        "id": "94ocayPg1IBG",
        "colab": {
          "base_uri": "https://localhost:8080/"
        },
        "outputId": "d0834a16-ac23-4b89-cf81-f25867a58f4d"
      },
      "outputs": [
        {
          "output_type": "stream",
          "name": "stdout",
          "text": [
            "range_10\n"
          ]
        }
      ],
      "source": [
        "class NamedArray(np.ndarray):\n",
        "    def __new__(cls, array, name=\"no name\"):\n",
        "        obj = np.asarray(array).view(cls)\n",
        "        obj.name = name\n",
        "        return obj\n",
        "    def __array_finalize__(self, obj):\n",
        "        if obj is None: return\n",
        "        self.info = getattr(obj, 'name', \"no name\")\n",
        "\n",
        "Z = NamedArray(np.arange(10), \"range_10\")\n",
        "print (Z.name)"
      ]
    },
    {
      "cell_type": "markdown",
      "metadata": {
        "id": "pcyLbZY21IBG"
      },
      "source": [
        "#### 64. Consider a given vector, how to add 1 to each element indexed by a second vector (be careful with repeated indices)? (★★★) \n",
        "(**hint**: np.bincount | np.add.at)"
      ]
    },
    {
      "cell_type": "code",
      "execution_count": 84,
      "metadata": {
        "id": "ub8Tl0hy1IBH",
        "colab": {
          "base_uri": "https://localhost:8080/"
        },
        "outputId": "e98f1bce-7ace-4389-cc09-7e03d421a359"
      },
      "outputs": [
        {
          "output_type": "stream",
          "name": "stdout",
          "text": [
            "[3. 3. 3. 2. 3. 4. 4. 4. 1. 3.]\n",
            "[5. 5. 5. 3. 5. 7. 7. 7. 1. 5.]\n"
          ]
        }
      ],
      "source": [
        "Z = np.ones(10)\n",
        "I = np.random.randint(0,len(Z),20)\n",
        "Z += np.bincount(I, minlength=len(Z))\n",
        "print(Z)\n",
        "np.add.at(Z, I, 1)\n",
        "print(Z)"
      ]
    },
    {
      "cell_type": "markdown",
      "metadata": {
        "id": "kfT7Y4Yi1IBH"
      },
      "source": [
        "#### 65. How to accumulate elements of a vector (X) to an array (F) based on an index list (I)? (★★★) \n",
        "(**hint**: np.bincount)"
      ]
    },
    {
      "cell_type": "code",
      "execution_count": 85,
      "metadata": {
        "id": "M-PaPNfC1IBH",
        "colab": {
          "base_uri": "https://localhost:8080/"
        },
        "outputId": "be9c2779-e646-402d-bccf-d997a6f5290b"
      },
      "outputs": [
        {
          "output_type": "stream",
          "name": "stdout",
          "text": [
            "[0. 7. 0. 6. 5. 0. 0. 0. 0. 3.]\n"
          ]
        }
      ],
      "source": [
        "X = [1,2,3,4,5,6]\n",
        "I = [1,3,9,3,4,1]\n",
        "F = np.bincount(I,X)\n",
        "print(F)"
      ]
    },
    {
      "cell_type": "markdown",
      "metadata": {
        "id": "I9ygMXrv1IBH"
      },
      "source": [
        "#### 66. Considering a (w,h,3) image of (dtype=ubyte), compute the number of unique colors (★★★) \n",
        "(**hint**: np.unique)"
      ]
    },
    {
      "cell_type": "code",
      "execution_count": null,
      "metadata": {
        "id": "hQ1-XArv1IBH"
      },
      "outputs": [],
      "source": [
        ""
      ]
    },
    {
      "cell_type": "markdown",
      "metadata": {
        "id": "XsxCjFaR1IBH"
      },
      "source": [
        "#### 67. Considering a four dimensions array, how to get sum over the last two axis at once? (★★★) \n",
        "(**hint**: sum(axis=(-2,-1)))"
      ]
    },
    {
      "cell_type": "code",
      "execution_count": 86,
      "metadata": {
        "id": "TnGRu12N1IBI",
        "colab": {
          "base_uri": "https://localhost:8080/"
        },
        "outputId": "f63696c3-2397-4e19-9aa5-58d9c182eec8"
      },
      "outputs": [
        {
          "output_type": "stream",
          "name": "stdout",
          "text": [
            "[[50 70 67 66]\n",
            " [54 63 57 63]\n",
            " [38 46 65 40]]\n",
            "[[50 70 67 66]\n",
            " [54 63 57 63]\n",
            " [38 46 65 40]]\n"
          ]
        }
      ],
      "source": [
        "A = np.random.randint(0,10,(3,4,3,4))\n",
        "sum = A.sum(axis=(-2,-1))\n",
        "print(sum)\n",
        "sum = A.reshape(A.shape[:-2] + (-1,)).sum(axis=-1)\n",
        "print(sum)"
      ]
    },
    {
      "cell_type": "markdown",
      "metadata": {
        "id": "dVosDSrx1IBI"
      },
      "source": [
        "#### 68. Considering a one-dimensional vector D, how to compute means of subsets of D using a vector S of same size describing subset  indices? (★★★) \n",
        "(**hint**: np.bincount)"
      ]
    },
    {
      "cell_type": "code",
      "execution_count": null,
      "metadata": {
        "id": "RZI17e6p1IBI"
      },
      "outputs": [],
      "source": [
        ""
      ]
    },
    {
      "cell_type": "markdown",
      "metadata": {
        "id": "YbB1-dQU1IBJ"
      },
      "source": [
        "#### 69. How to get the diagonal of a dot product? (★★★) \n",
        "(**hint**: np.diag)"
      ]
    },
    {
      "cell_type": "code",
      "execution_count": null,
      "metadata": {
        "id": "hJ9AdbJb1IBJ"
      },
      "outputs": [],
      "source": [
        ""
      ]
    },
    {
      "cell_type": "markdown",
      "metadata": {
        "id": "vDsa-GEQ1IBJ"
      },
      "source": [
        "#### 70. Consider the vector \\[1, 2, 3, 4, 5\\], how to build a new vector with 3 consecutive zeros interleaved between each value? (★★★) \n",
        "(**hint**: array\\[::4\\])"
      ]
    },
    {
      "cell_type": "code",
      "execution_count": 87,
      "metadata": {
        "id": "D42Zs3q91IBJ",
        "colab": {
          "base_uri": "https://localhost:8080/"
        },
        "outputId": "6bff4273-59a8-4823-e319-ebeacda97a44"
      },
      "outputs": [
        {
          "output_type": "stream",
          "name": "stdout",
          "text": [
            "[1. 0. 0. 0. 2. 0. 0. 0. 3. 0. 0. 0. 4. 0. 0. 0. 5.]\n"
          ]
        }
      ],
      "source": [
        "Z = np.array([1,2,3,4,5])\n",
        "nz = 3\n",
        "Z0 = np.zeros(len(Z) + (len(Z)-1)*(nz))\n",
        "Z0[::nz+1] = Z\n",
        "print(Z0)"
      ]
    },
    {
      "cell_type": "markdown",
      "metadata": {
        "id": "4kVco0wM1IBK"
      },
      "source": [
        "#### 71. Consider an array of dimension (5,5,3), how to mulitply it by an array with dimensions (5,5)? (★★★) \n",
        "(**hint**: array\\[:, :, None\\])"
      ]
    },
    {
      "cell_type": "code",
      "execution_count": 88,
      "metadata": {
        "collapsed": true,
        "id": "NMIlb9Fy1IBK",
        "colab": {
          "base_uri": "https://localhost:8080/"
        },
        "outputId": "c6c646f2-6d3d-4ae4-ba5c-77f8725e4a3d"
      },
      "outputs": [
        {
          "output_type": "stream",
          "name": "stdout",
          "text": [
            "[[[2. 2. 2.]\n",
            "  [2. 2. 2.]\n",
            "  [2. 2. 2.]\n",
            "  [2. 2. 2.]\n",
            "  [2. 2. 2.]]\n",
            "\n",
            " [[2. 2. 2.]\n",
            "  [2. 2. 2.]\n",
            "  [2. 2. 2.]\n",
            "  [2. 2. 2.]\n",
            "  [2. 2. 2.]]\n",
            "\n",
            " [[2. 2. 2.]\n",
            "  [2. 2. 2.]\n",
            "  [2. 2. 2.]\n",
            "  [2. 2. 2.]\n",
            "  [2. 2. 2.]]\n",
            "\n",
            " [[2. 2. 2.]\n",
            "  [2. 2. 2.]\n",
            "  [2. 2. 2.]\n",
            "  [2. 2. 2.]\n",
            "  [2. 2. 2.]]\n",
            "\n",
            " [[2. 2. 2.]\n",
            "  [2. 2. 2.]\n",
            "  [2. 2. 2.]\n",
            "  [2. 2. 2.]\n",
            "  [2. 2. 2.]]]\n"
          ]
        }
      ],
      "source": [
        "A = np.ones((5,5,3))\n",
        "B = 2*np.ones((5,5))\n",
        "print(A * B[:,:,None])"
      ]
    },
    {
      "cell_type": "markdown",
      "metadata": {
        "id": "LvAaJnjZ1IBK"
      },
      "source": [
        "#### 72. How to swap two rows of an array? (★★★) \n",
        "(**hint**: array\\[\\[\\]\\] = array\\[\\[\\]\\])"
      ]
    },
    {
      "cell_type": "code",
      "execution_count": 89,
      "metadata": {
        "id": "yHwjuM4F1IBK",
        "colab": {
          "base_uri": "https://localhost:8080/"
        },
        "outputId": "c7a12920-ccd5-4dd1-b888-02d5d488945a"
      },
      "outputs": [
        {
          "output_type": "stream",
          "name": "stdout",
          "text": [
            "[[ 5  6  7  8  9]\n",
            " [ 0  1  2  3  4]\n",
            " [10 11 12 13 14]\n",
            " [15 16 17 18 19]\n",
            " [20 21 22 23 24]]\n"
          ]
        }
      ],
      "source": [
        "A = np.arange(25).reshape(5,5)\n",
        "A[[0,1]] = A[[1,0]]\n",
        "print(A)"
      ]
    },
    {
      "cell_type": "markdown",
      "metadata": {
        "id": "qzjlnUvP1IBK"
      },
      "source": [
        "#### 73. Consider a set of 10 triplets describing 10 triangles (with shared vertices), find the set of unique line segments composing all the  triangles (★★★) \n",
        "(**hint**: repeat, np.roll, np.sort, view, np.unique)"
      ]
    },
    {
      "cell_type": "code",
      "execution_count": 90,
      "metadata": {
        "id": "c7I5jFdR1IBK",
        "colab": {
          "base_uri": "https://localhost:8080/"
        },
        "outputId": "ed2d598a-b369-40a0-a172-e4881a451ab7"
      },
      "outputs": [
        {
          "output_type": "stream",
          "name": "stdout",
          "text": [
            "[( 1, 10) ( 1, 15) ( 1, 59) ( 1, 85) ( 2, 65) ( 2, 79) ( 7, 32) ( 7, 44)\n",
            " ( 9, 59) ( 9, 60) (10, 15) (11, 84) (11, 86) (21, 33) (21, 59) (23, 28)\n",
            " (23, 71) (28, 71) (32, 44) (33, 59) (44, 50) (44, 68) (48, 48) (48, 79)\n",
            " (50, 68) (59, 60) (59, 85) (65, 79) (84, 86)]\n"
          ]
        }
      ],
      "source": [
        "faces = np.random.randint(0,100,(10,3))\n",
        "F = np.roll(faces.repeat(2,axis=1),-1,axis=1)\n",
        "F = F.reshape(len(F)*3,2)\n",
        "F = np.sort(F,axis=1)\n",
        "G = F.view( dtype=[('p0',F.dtype),('p1',F.dtype)] )\n",
        "G = np.unique(G)\n",
        "print(G)"
      ]
    },
    {
      "cell_type": "markdown",
      "metadata": {
        "id": "3-xGH9jr1IBK"
      },
      "source": [
        "#### 74. Given an array C that is a bincount, how to produce an array A such that np.bincount(A) == C? (★★★) \n",
        "(**hint**: np.repeat)"
      ]
    },
    {
      "cell_type": "code",
      "execution_count": 91,
      "metadata": {
        "id": "5uJdbpZh1IBK",
        "colab": {
          "base_uri": "https://localhost:8080/"
        },
        "outputId": "e4441881-c9ff-43b6-9f2e-952ab3f7f261"
      },
      "outputs": [
        {
          "output_type": "stream",
          "name": "stdout",
          "text": [
            "[1 1 2 3 4 4 6]\n"
          ]
        }
      ],
      "source": [
        "C = np.bincount([1,1,2,3,4,4,6])\n",
        "A = np.repeat(np.arange(len(C)), C)\n",
        "print(A)"
      ]
    },
    {
      "cell_type": "markdown",
      "metadata": {
        "id": "TJ5M8qn31IBL"
      },
      "source": [
        "#### 75. How to compute averages using a sliding window over an array? (★★★) \n",
        "(**hint**: np.cumsum)"
      ]
    },
    {
      "cell_type": "code",
      "execution_count": null,
      "metadata": {
        "id": "ND0Q1gDV1IBL"
      },
      "outputs": [],
      "source": [
        ""
      ]
    },
    {
      "cell_type": "markdown",
      "metadata": {
        "id": "tp2lCMkU1IBL"
      },
      "source": [
        "#### 76. Consider a one-dimensional array Z, build a two-dimensional array whose first row is (Z\\[0\\],Z\\[1\\],Z\\[2\\]) and each subsequent row is  shifted by 1 (last row should be (Z\\[-3\\],Z\\[-2\\],Z\\[-1\\]) (★★★) \n",
        "(**hint**: from numpy.lib import stride_tricks)"
      ]
    },
    {
      "cell_type": "markdown",
      "metadata": {
        "id": "2-eTyaaX1IBL"
      },
      "source": [
        "#### 77. How to negate a boolean, or to change the sign of a float inplace? (★★★) \n",
        "(**hint**: np.logical_not, np.negative)"
      ]
    },
    {
      "cell_type": "code",
      "execution_count": 94,
      "metadata": {
        "id": "kV81mnat1IBL",
        "colab": {
          "base_uri": "https://localhost:8080/"
        },
        "outputId": "c47c2e65-e9ee-435b-f3ea-505f51013a1f"
      },
      "outputs": [
        {
          "output_type": "execute_result",
          "data": {
            "text/plain": [
              "array([-0.9696444 ,  0.34115911, -0.91714892,  0.73184846,  0.73088787,\n",
              "       -0.61079231, -0.56884651, -0.50256431, -0.19131441,  0.05724978,\n",
              "       -0.25914334, -0.28931319,  0.40251362, -0.15597624, -0.63872782,\n",
              "       -0.14662721, -0.50578964, -0.02855282,  0.68719995, -0.79730896,\n",
              "        0.49115299,  0.4678484 , -0.27406797, -0.46286831, -0.64419155,\n",
              "       -0.64442705, -0.22455976,  0.31994937,  0.41580957,  0.52982403,\n",
              "        0.58665078,  0.73213049, -0.50303155,  0.74738443,  0.63882794,\n",
              "       -0.21772075, -0.51064525, -0.75524006,  0.55491781, -0.95964524,\n",
              "       -0.48602878, -0.48231175,  0.59989774, -0.85627899, -0.03269103,\n",
              "        0.66501287,  0.15186779, -0.66024255,  0.53658078,  0.86624457,\n",
              "       -0.53069299, -0.2818031 , -0.5704211 , -0.74781339,  0.22623363,\n",
              "        0.23721654,  0.98360364,  0.75061985,  0.84169321,  0.35366317,\n",
              "        0.56822842,  0.71784992, -0.83092558, -0.92295308,  0.99423685,\n",
              "        0.74023759,  0.83360053,  0.58234757, -0.49785157,  0.53825198,\n",
              "       -0.71069995,  0.12667755, -0.96464905,  0.24128194,  0.75329184,\n",
              "       -0.94099279,  0.24758654, -0.84504187, -0.11828686, -0.81349937,\n",
              "       -0.91932278,  0.80566254, -0.6528521 , -0.85860037, -0.40184965,\n",
              "       -0.85658646,  0.90564319, -0.21908983,  0.72037514,  0.32717832,\n",
              "        0.17317094, -0.38911742, -0.71642023,  0.87751026,  0.38317484,\n",
              "       -0.89270205, -0.2554748 ,  0.53672558, -0.37876404, -0.72226843])"
            ]
          },
          "metadata": {},
          "execution_count": 94
        }
      ],
      "source": [
        "Z = np.random.randint(0,2,100)\n",
        "np.logical_not(Z, out=Z)\n",
        "\n",
        "Z = np.random.uniform(-1.0,1.0,100)\n",
        "np.negative(Z, out=Z)"
      ]
    },
    {
      "cell_type": "markdown",
      "metadata": {
        "id": "iWzT05jD1IBL"
      },
      "source": [
        "#### 78. Consider 2 sets of points P0,P1 describing lines (2d) and a point p, how to compute distance from p to each line i  (P0\\[i\\],P1\\[i\\])? (★★★)"
      ]
    },
    {
      "cell_type": "code",
      "execution_count": 93,
      "metadata": {
        "id": "I0_a14k-1IBM",
        "colab": {
          "base_uri": "https://localhost:8080/"
        },
        "outputId": "a54083c0-d4a3-4a9d-dcb4-7c46f8b829ed"
      },
      "outputs": [
        {
          "output_type": "stream",
          "name": "stdout",
          "text": [
            "[ 0.49037597  6.85925848  6.90890156  2.47011665  8.09578143  1.87092126\n",
            " 11.11620525  3.12116223  3.34013078  2.62402182]\n"
          ]
        }
      ],
      "source": [
        "def distance(P0, P1, p):\n",
        "    T = P1 - P0\n",
        "    L = (T**2).sum(axis=1)\n",
        "    U = -((P0[:,0]-p[...,0])*T[:,0] + (P0[:,1]-p[...,1])*T[:,1]) / L\n",
        "    U = U.reshape(len(U),1)\n",
        "    D = P0 + U*T - p\n",
        "    return np.sqrt((D**2).sum(axis=1))\n",
        "\n",
        "P0 = np.random.uniform(-10,10,(10,2))\n",
        "P1 = np.random.uniform(-10,10,(10,2))\n",
        "p  = np.random.uniform(-10,10,( 1,2))\n",
        "print(distance(P0, P1, p))"
      ]
    },
    {
      "cell_type": "markdown",
      "metadata": {
        "id": "AOJsA0qa1IBM"
      },
      "source": [
        "#### 79. Consider 2 sets of points P0,P1 describing lines (2d) and a set of points P, how to compute distance from each point j (P\\[j\\]) to each line i (P0\\[i\\],P1\\[i\\])? (★★★)"
      ]
    },
    {
      "cell_type": "code",
      "execution_count": 95,
      "metadata": {
        "id": "Nf0v1ZO41IBM",
        "colab": {
          "base_uri": "https://localhost:8080/"
        },
        "outputId": "25ca3448-9ae8-4b05-a011-3c8b563a9495"
      },
      "outputs": [
        {
          "output_type": "stream",
          "name": "stdout",
          "text": [
            "[[14.3066406  12.67826108  3.0188697   5.06792316  1.3741203  11.69832448\n",
            "   7.66463181 13.97913736  6.59532477  7.42599625]\n",
            " [10.81665105  4.27752292  5.33222367  7.95319339  1.17347864  4.41674879\n",
            "  10.00438335  6.09692255  5.11307412  2.95277841]\n",
            " [ 4.77991773  3.37160613  6.89247234  2.40696668  7.38100992  0.5390724\n",
            "   4.26796033  3.10773991  1.1765607   2.79436561]\n",
            " [ 0.57873845  4.88499419 15.19014353  4.44482795  8.03236249  7.03882813\n",
            "   5.75176743  4.93063811  3.46839372  7.90801114]\n",
            " [ 0.67473791  2.73080785 13.29907237  1.48178823 10.44810517  6.34537094\n",
            "   2.87875282  3.72134645  5.41487704  8.75920229]\n",
            " [ 8.46557238  3.32833866  6.50384696  6.25434685  3.30418507  2.5249808\n",
            "   8.19848643  4.46682609  2.82657419  0.62736886]\n",
            " [ 8.66130747 10.76722415  0.55372112  0.70402793  6.66739026  7.39139592\n",
            "   3.06404565 10.35260008  1.00439635  1.89607178]\n",
            " [13.73275338  6.18671904  3.18689237  9.49430135  1.11719738  7.23143322\n",
            "  11.71873917  8.69058535  7.74894184  5.94395608]\n",
            " [ 7.41914787 11.68206047  1.27409082  1.28884925  8.47446752  7.29808638\n",
            "   1.092926   10.59789772  0.59093448  0.87436621]\n",
            " [ 2.64829077  4.18917011 14.29092655  6.04828695  6.08958835  5.46296958\n",
            "   7.44173338  3.60488015  1.41748621  5.88146139]]\n"
          ]
        }
      ],
      "source": [
        "P0 = np.random.uniform(-10, 10, (10,2))\n",
        "P1 = np.random.uniform(-10,10,(10,2))\n",
        "p = np.random.uniform(-10, 10, (10,2))\n",
        "print(np.array([distance(P0,P1,p_i) for p_i in p]))"
      ]
    },
    {
      "cell_type": "markdown",
      "metadata": {
        "id": "2hMj_k2P1IBM"
      },
      "source": [
        "#### 80. Consider an arbitrary array, write a function that extract a subpart with a fixed shape and centered on a given element (pad with a `fill` value when necessary) (★★★) \n",
        "(**hint**: minimum, maximum)"
      ]
    },
    {
      "cell_type": "code",
      "execution_count": 96,
      "metadata": {
        "id": "EUG0LrAy1IBM",
        "colab": {
          "base_uri": "https://localhost:8080/"
        },
        "outputId": "25f67f50-73c8-4536-df08-e1bb325609ac"
      },
      "outputs": [
        {
          "output_type": "stream",
          "name": "stdout",
          "text": [
            "[[4 5 6 8 5 3 8 5 2 7]\n",
            " [3 8 5 1 1 3 1 7 9 5]\n",
            " [1 9 6 0 4 1 8 8 7 2]\n",
            " [4 9 6 0 5 4 4 6 9 9]\n",
            " [6 1 2 4 7 0 3 1 4 8]\n",
            " [2 5 2 9 6 9 6 6 5 7]\n",
            " [6 6 1 1 9 3 4 0 6 3]\n",
            " [2 4 3 0 7 7 7 2 6 2]\n",
            " [9 0 3 1 0 7 0 2 0 5]\n",
            " [6 9 4 4 2 9 4 0 0 1]]\n",
            "[[0 0 0 0 0]\n",
            " [0 4 5 6 8]\n",
            " [0 3 8 5 1]\n",
            " [0 1 9 6 0]\n",
            " [0 4 9 6 0]]\n"
          ]
        },
        {
          "output_type": "stream",
          "name": "stderr",
          "text": [
            "/usr/local/lib/python3.7/dist-packages/ipykernel_launcher.py:23: FutureWarning: Using a non-tuple sequence for multidimensional indexing is deprecated; use `arr[tuple(seq)]` instead of `arr[seq]`. In the future this will be interpreted as an array index, `arr[np.array(seq)]`, which will result either in an error or a different result.\n"
          ]
        }
      ],
      "source": [
        "Z = np.random.randint(0,10,(10,10))\n",
        "shape = (5,5)\n",
        "fill  = 0\n",
        "position = (1,1)\n",
        "\n",
        "R = np.ones(shape, dtype=Z.dtype)*fill\n",
        "P  = np.array(list(position)).astype(int)\n",
        "Rs = np.array(list(R.shape)).astype(int)\n",
        "Zs = np.array(list(Z.shape)).astype(int)\n",
        "\n",
        "R_start = np.zeros((len(shape),)).astype(int)\n",
        "R_stop  = np.array(list(shape)).astype(int)\n",
        "Z_start = (P-Rs//2)\n",
        "Z_stop  = (P+Rs//2)+Rs%2\n",
        "\n",
        "R_start = (R_start - np.minimum(Z_start,0)).tolist()\n",
        "Z_start = (np.maximum(Z_start,0)).tolist()\n",
        "R_stop = np.maximum(R_start, (R_stop - np.maximum(Z_stop-Zs,0))).tolist()\n",
        "Z_stop = (np.minimum(Z_stop,Zs)).tolist()\n",
        "\n",
        "r = [slice(start,stop) for start,stop in zip(R_start,R_stop)]\n",
        "z = [slice(start,stop) for start,stop in zip(Z_start,Z_stop)]\n",
        "R[r] = Z[z]\n",
        "print(Z)\n",
        "print(R)"
      ]
    },
    {
      "cell_type": "markdown",
      "metadata": {
        "id": "kltzupBI1IBM"
      },
      "source": [
        "#### 81. Consider an array Z = \\[1,2,3,4,5,6,7,8,9,10,11,12,13,14\\], how to generate an array R = \\[\\[1,2,3,4\\], \\[2,3,4,5\\], \\[3,4,5,6\\], ..., \\[11,12,13,14\\]\\]? (★★★) \n",
        "(**hint**: stride\\_tricks.as\\_strided)"
      ]
    },
    {
      "cell_type": "code",
      "execution_count": 97,
      "metadata": {
        "id": "O_UQEFCq1IBM",
        "colab": {
          "base_uri": "https://localhost:8080/",
          "height": 391
        },
        "outputId": "96904e78-643d-4771-f3db-d8d105257adc"
      },
      "outputs": [
        {
          "output_type": "stream",
          "name": "stdout",
          "text": [
            "[[ 1  2  3  4]\n",
            " [ 2  3  4  5]\n",
            " [ 3  4  5  6]\n",
            " [ 4  5  6  7]\n",
            " [ 5  6  7  8]\n",
            " [ 6  7  8  9]\n",
            " [ 7  8  9 10]\n",
            " [ 8  9 10 11]\n",
            " [ 9 10 11 12]\n",
            " [10 11 12 13]\n",
            " [11 12 13 14]]\n"
          ]
        },
        {
          "output_type": "error",
          "ename": "NameError",
          "evalue": "ignored",
          "traceback": [
            "\u001b[0;31m---------------------------------------------------------------------------\u001b[0m",
            "\u001b[0;31mNameError\u001b[0m                                 Traceback (most recent call last)",
            "\u001b[0;32m<ipython-input-97-2d742efe749d>\u001b[0m in \u001b[0;36m<module>\u001b[0;34m()\u001b[0m\n\u001b[1;32m      3\u001b[0m \u001b[0mprint\u001b[0m\u001b[0;34m(\u001b[0m\u001b[0mR\u001b[0m\u001b[0;34m)\u001b[0m\u001b[0;34m\u001b[0m\u001b[0;34m\u001b[0m\u001b[0m\n\u001b[1;32m      4\u001b[0m \u001b[0mZ\u001b[0m \u001b[0;34m=\u001b[0m \u001b[0mnp\u001b[0m\u001b[0;34m.\u001b[0m\u001b[0marange\u001b[0m\u001b[0;34m(\u001b[0m\u001b[0;36m1\u001b[0m\u001b[0;34m,\u001b[0m \u001b[0;36m15\u001b[0m\u001b[0;34m,\u001b[0m \u001b[0mdtype\u001b[0m\u001b[0;34m=\u001b[0m\u001b[0mnp\u001b[0m\u001b[0;34m.\u001b[0m\u001b[0muint32\u001b[0m\u001b[0;34m)\u001b[0m\u001b[0;34m\u001b[0m\u001b[0;34m\u001b[0m\u001b[0m\n\u001b[0;32m----> 5\u001b[0;31m \u001b[0mprint\u001b[0m\u001b[0;34m(\u001b[0m\u001b[0msliding_window_view\u001b[0m\u001b[0;34m(\u001b[0m\u001b[0mZ\u001b[0m\u001b[0;34m,\u001b[0m \u001b[0mwindow_shape\u001b[0m\u001b[0;34m=\u001b[0m\u001b[0;36m4\u001b[0m\u001b[0;34m)\u001b[0m\u001b[0;34m)\u001b[0m\u001b[0;34m\u001b[0m\u001b[0;34m\u001b[0m\u001b[0m\n\u001b[0m",
            "\u001b[0;31mNameError\u001b[0m: name 'sliding_window_view' is not defined"
          ]
        }
      ],
      "source": [
        "Z = np.arange(1,15,dtype=np.uint32)\n",
        "R = stride_tricks.as_strided(Z,(11,4),(4,4))\n",
        "print(R)\n",
        "Z = np.arange(1, 15, dtype=np.uint32)\n",
        "print(sliding_window_view(Z, window_shape=4))"
      ]
    },
    {
      "cell_type": "markdown",
      "metadata": {
        "id": "AHjntV1R1IBN"
      },
      "source": [
        "#### 82. Compute a matrix rank (★★★) \n",
        "(**hint**: np.linalg.svd) (suggestion: np.linalg.svd)"
      ]
    },
    {
      "cell_type": "code",
      "execution_count": 98,
      "metadata": {
        "id": "K_j-ANmZ1IBN",
        "colab": {
          "base_uri": "https://localhost:8080/"
        },
        "outputId": "32a0aef6-74d8-43bb-f2c1-4fa4d1256be4"
      },
      "outputs": [
        {
          "output_type": "stream",
          "name": "stdout",
          "text": [
            "10\n",
            "10\n"
          ]
        }
      ],
      "source": [
        "Z = np.random.uniform(0,1,(10,10))\n",
        "U, S, V = np.linalg.svd(Z) \n",
        "rank = np.sum(S > 1e-10)\n",
        "print(rank)\n",
        "rank = np.linalg.matrix_rank(Z)\n",
        "print(rank)"
      ]
    },
    {
      "cell_type": "markdown",
      "metadata": {
        "id": "WKQDsBXQ1IBN"
      },
      "source": [
        "#### 83. How to find the most frequent value in an array? \n",
        "(**hint**: np.bincount, argmax)"
      ]
    },
    {
      "cell_type": "code",
      "execution_count": 99,
      "metadata": {
        "id": "7DXGCpIc1IBN",
        "colab": {
          "base_uri": "https://localhost:8080/"
        },
        "outputId": "3946b52a-d0ca-4b53-8b8e-4255fff46a3e"
      },
      "outputs": [
        {
          "output_type": "stream",
          "name": "stdout",
          "text": [
            "7\n"
          ]
        }
      ],
      "source": [
        "Z = np.random.randint(0,10,50)\n",
        "print(np.bincount(Z).argmax())"
      ]
    },
    {
      "cell_type": "markdown",
      "metadata": {
        "id": "Sk-O1uZz1IBN"
      },
      "source": [
        "#### 84. Extract all the contiguous 3x3 blocks from a random 10x10 matrix (★★★) \n",
        "(**hint**: stride\\_tricks.as\\_strided)"
      ]
    },
    {
      "cell_type": "markdown",
      "metadata": {
        "id": "NFpMaSlZ1IBO"
      },
      "source": [
        "#### 85. Create a 2D array subclass such that Z\\[i,j\\] == Z\\[j,i\\] (★★★) \n",
        "(**hint**: class method)"
      ]
    },
    {
      "cell_type": "code",
      "execution_count": 101,
      "metadata": {
        "id": "9NGcS9AR1IBO",
        "colab": {
          "base_uri": "https://localhost:8080/"
        },
        "outputId": "75a2234a-26f9-40fb-9ea1-0141b062887a"
      },
      "outputs": [
        {
          "output_type": "stream",
          "name": "stdout",
          "text": [
            "[[ 9 10  5 11  6]\n",
            " [10  6 12 13 11]\n",
            " [ 5 12  9 42  3]\n",
            " [11 13 42  2  7]\n",
            " [ 6 11  3  7  5]]\n"
          ]
        }
      ],
      "source": [
        "class Symetric(np.ndarray):\n",
        "    def __setitem__(self, index, value):\n",
        "        i,j = index\n",
        "        super(Symetric, self).__setitem__((i,j), value)\n",
        "        super(Symetric, self).__setitem__((j,i), value)\n",
        "\n",
        "def symetric(Z):\n",
        "    return np.asarray(Z + Z.T - np.diag(Z.diagonal())).view(Symetric)\n",
        "\n",
        "S = symetric(np.random.randint(0,10,(5,5)))\n",
        "S[2,3] = 42\n",
        "print(S)\n"
      ]
    },
    {
      "cell_type": "markdown",
      "metadata": {
        "id": "gknLRoQK1IBO"
      },
      "source": [
        "#### 86. Consider a set of p matrices wich shape (n,n) and a set of p vectors with shape (n,1). How to compute the sum of of the p matrix products at once? (result has shape (n,1)) (★★★) \n",
        "(**hint**: np.tensordot)"
      ]
    },
    {
      "cell_type": "code",
      "execution_count": 102,
      "metadata": {
        "id": "NlkY1g0y1IBO",
        "colab": {
          "base_uri": "https://localhost:8080/"
        },
        "outputId": "7deb14b4-726a-400c-bcd2-536209f6476d"
      },
      "outputs": [
        {
          "output_type": "stream",
          "name": "stdout",
          "text": [
            "[[200.]\n",
            " [200.]\n",
            " [200.]\n",
            " [200.]\n",
            " [200.]\n",
            " [200.]\n",
            " [200.]\n",
            " [200.]\n",
            " [200.]\n",
            " [200.]\n",
            " [200.]\n",
            " [200.]\n",
            " [200.]\n",
            " [200.]\n",
            " [200.]\n",
            " [200.]\n",
            " [200.]\n",
            " [200.]\n",
            " [200.]\n",
            " [200.]]\n"
          ]
        }
      ],
      "source": [
        "p, n = 10, 20\n",
        "M = np.ones((p,n,n))\n",
        "V = np.ones((p,n,1))\n",
        "S = np.tensordot(M, V, axes=[[0, 2], [0, 1]])\n",
        "print(S)"
      ]
    },
    {
      "cell_type": "markdown",
      "metadata": {
        "id": "89Y8e3yB1IBO"
      },
      "source": [
        "#### 87. Consider a 16x16 array, how to get the block-sum (block size is 4x4)? (★★★) \n",
        "(**hint**: np.add.reduceat)"
      ]
    },
    {
      "cell_type": "markdown",
      "metadata": {
        "id": "ww5IuFoz1IBQ"
      },
      "source": [
        "#### 88. How to implement the Game of Life using numpy arrays? (★★★)"
      ]
    },
    {
      "cell_type": "code",
      "execution_count": null,
      "metadata": {
        "id": "NdcmOz2k1IBQ"
      },
      "outputs": [],
      "source": [
        ""
      ]
    },
    {
      "cell_type": "markdown",
      "metadata": {
        "id": "mkMgizJm1IBQ"
      },
      "source": [
        "#### 89. How to get the n largest values of an array (★★★) \n",
        "(**hint**: np.argsort | np.argpartition)"
      ]
    },
    {
      "cell_type": "code",
      "execution_count": 104,
      "metadata": {
        "id": "JZsL4D0_1IBQ",
        "colab": {
          "base_uri": "https://localhost:8080/"
        },
        "outputId": "43706f06-6c73-4d05-cd02-efb32163e722"
      },
      "outputs": [
        {
          "output_type": "stream",
          "name": "stdout",
          "text": [
            "[9995 9996 9997 9998 9999]\n",
            "[9999 9998 9996 9997 9995]\n"
          ]
        }
      ],
      "source": [
        "Z = np.arange(10000)\n",
        "np.random.shuffle(Z)\n",
        "n = 5\n",
        "\n",
        "# Slow\n",
        "print (Z[np.argsort(Z)[-n:]])\n",
        "\n",
        "# Fast\n",
        "print (Z[np.argpartition(-Z,n)[:n]])"
      ]
    },
    {
      "cell_type": "markdown",
      "metadata": {
        "id": "b5mUAvgi1IBR"
      },
      "source": [
        "#### 90. Given an arbitrary number of vectors, build the cartesian product (every combinations of every item) (★★★) \n",
        "(**hint**: np.indices)"
      ]
    },
    {
      "cell_type": "code",
      "execution_count": 105,
      "metadata": {
        "scrolled": true,
        "id": "kDmLkxcz1IBR",
        "colab": {
          "base_uri": "https://localhost:8080/"
        },
        "outputId": "339cd22c-6382-4dfd-d28a-c6e9b8620b15"
      },
      "outputs": [
        {
          "output_type": "stream",
          "name": "stdout",
          "text": [
            "[[1 4 6]\n",
            " [1 4 7]\n",
            " [1 5 6]\n",
            " [1 5 7]\n",
            " [2 4 6]\n",
            " [2 4 7]\n",
            " [2 5 6]\n",
            " [2 5 7]\n",
            " [3 4 6]\n",
            " [3 4 7]\n",
            " [3 5 6]\n",
            " [3 5 7]]\n"
          ]
        }
      ],
      "source": [
        "def cartesian(arrays):\n",
        "    arrays = [np.asarray(a) for a in arrays]\n",
        "    shape = (len(x) for x in arrays)\n",
        "\n",
        "    ix = np.indices(shape, dtype=int)\n",
        "    ix = ix.reshape(len(arrays), -1).T\n",
        "\n",
        "    for n, arr in enumerate(arrays):\n",
        "        ix[:, n] = arrays[n][ix[:, n]]\n",
        "\n",
        "    return ix\n",
        "\n",
        "print (cartesian(([1, 2, 3], [4, 5], [6, 7])))"
      ]
    },
    {
      "cell_type": "markdown",
      "metadata": {
        "id": "BSfMy4bw1IBR"
      },
      "source": [
        "#### 91. How to create a record array from a regular array? (★★★) \n",
        "(**hint**: np.core.records.fromarrays)"
      ]
    },
    {
      "cell_type": "code",
      "execution_count": 106,
      "metadata": {
        "id": "3vlFTKzF1IBR",
        "colab": {
          "base_uri": "https://localhost:8080/"
        },
        "outputId": "5175dbaf-a389-410c-8b87-8f7e92fbff49"
      },
      "outputs": [
        {
          "output_type": "stream",
          "name": "stdout",
          "text": [
            "[(b'Hello', 2.5, 3) (b'World', 3.6, 2)]\n"
          ]
        }
      ],
      "source": [
        "Z = np.array([(\"Hello\", 2.5, 3),\n",
        "              (\"World\", 3.6, 2)])\n",
        "R = np.core.records.fromarrays(Z.T,\n",
        "                               names='col1, col2, col3',\n",
        "                               formats = 'S8, f8, i8')\n",
        "print(R)"
      ]
    },
    {
      "cell_type": "markdown",
      "metadata": {
        "id": "8At5HOSW1IBR"
      },
      "source": [
        "#### 92. Consider a large vector Z, compute Z to the power of 3 using 3 different methods (★★★) \n",
        "(**hint**: np.power, \\*, np.einsum)"
      ]
    },
    {
      "cell_type": "code",
      "execution_count": 107,
      "metadata": {
        "id": "t5WCk_Tf1IBR",
        "colab": {
          "base_uri": "https://localhost:8080/"
        },
        "outputId": "f985e5ce-790d-4632-e1bb-d00203094fb8"
      },
      "outputs": [
        {
          "output_type": "stream",
          "name": "stdout",
          "text": [
            "1 loop, best of 5: 3.73 s per loop\n",
            "10 loops, best of 5: 142 ms per loop\n",
            "10 loops, best of 5: 123 ms per loop\n"
          ]
        }
      ],
      "source": [
        "x = np.random.rand(int(5e7))\n",
        "\n",
        "%timeit np.power(x,3)\n",
        "%timeit x*x*x\n",
        "%timeit np.einsum('i,i,i->i',x,x,x)"
      ]
    },
    {
      "cell_type": "markdown",
      "metadata": {
        "id": "vIarh_LC1IBR"
      },
      "source": [
        "#### 93. Consider two arrays A and B of shape (8,3) and (2,2). How to find rows of A that contain elements of each row of B regardless of the order of the elements in B? (★★★) \n",
        "(**hint**: np.where)"
      ]
    },
    {
      "cell_type": "code",
      "execution_count": 108,
      "metadata": {
        "id": "n26A9oMq1IBR",
        "colab": {
          "base_uri": "https://localhost:8080/"
        },
        "outputId": "50b8809d-c0aa-4be9-a79a-dc66d89f3797"
      },
      "outputs": [
        {
          "output_type": "stream",
          "name": "stdout",
          "text": [
            "[2 3 4 5 6 7]\n"
          ]
        }
      ],
      "source": [
        "A = np.random.randint(0,5,(8,3))\n",
        "B = np.random.randint(0,5,(2,2))\n",
        "\n",
        "C = (A[..., np.newaxis, np.newaxis] == B)\n",
        "rows = np.where(C.any((3,1)).all(1))[0]\n",
        "print(rows)"
      ]
    },
    {
      "cell_type": "markdown",
      "metadata": {
        "id": "xSWz7mIG1IBR"
      },
      "source": [
        "#### 94. Considering a 10x3 matrix, extract rows with unequal values (e.g. \\[2,2,3\\]) (★★★)"
      ]
    },
    {
      "cell_type": "code",
      "execution_count": 109,
      "metadata": {
        "id": "oXzjE2ma1IBR",
        "colab": {
          "base_uri": "https://localhost:8080/"
        },
        "outputId": "56817333-c83b-4232-d8a8-18c7969958de"
      },
      "outputs": [
        {
          "output_type": "stream",
          "name": "stdout",
          "text": [
            "[[3 0 4]\n",
            " [4 3 3]\n",
            " [4 4 0]\n",
            " [4 2 4]\n",
            " [2 1 1]\n",
            " [4 0 0]\n",
            " [0 0 0]\n",
            " [2 4 3]\n",
            " [2 4 3]\n",
            " [2 2 0]]\n",
            "[[3 0 4]\n",
            " [4 3 3]\n",
            " [4 4 0]\n",
            " [4 2 4]\n",
            " [2 1 1]\n",
            " [4 0 0]\n",
            " [2 4 3]\n",
            " [2 4 3]\n",
            " [2 2 0]]\n",
            "[[3 0 4]\n",
            " [4 3 3]\n",
            " [4 4 0]\n",
            " [4 2 4]\n",
            " [2 1 1]\n",
            " [4 0 0]\n",
            " [2 4 3]\n",
            " [2 4 3]\n",
            " [2 2 0]]\n"
          ]
        }
      ],
      "source": [
        "Z = np.random.randint(0,5,(10,3))\n",
        "print(Z)\n",
        "E = np.all(Z[:,1:] == Z[:,:-1], axis=1)\n",
        "U = Z[~E]\n",
        "print(U)\n",
        "U = Z[Z.max(axis=1) != Z.min(axis=1),:]\n",
        "print(U)"
      ]
    },
    {
      "cell_type": "markdown",
      "metadata": {
        "id": "kWmxW-z11IBR"
      },
      "source": [
        "#### 95. Convert a vector of ints into a matrix binary representation (★★★) \n",
        "(**hint**: np.unpackbits)"
      ]
    },
    {
      "cell_type": "code",
      "execution_count": 110,
      "metadata": {
        "id": "dNlBbuW_1IBR",
        "colab": {
          "base_uri": "https://localhost:8080/"
        },
        "outputId": "a080ef16-ce02-4f74-a2b1-3dae54da8951"
      },
      "outputs": [
        {
          "output_type": "stream",
          "name": "stdout",
          "text": [
            "[[0 0 0 0 0 0 0 0]\n",
            " [0 0 0 0 0 0 0 1]\n",
            " [0 0 0 0 0 0 1 0]\n",
            " [0 0 0 0 0 0 1 1]\n",
            " [0 0 0 0 1 1 1 1]\n",
            " [0 0 0 1 0 0 0 0]\n",
            " [0 0 1 0 0 0 0 0]\n",
            " [0 1 0 0 0 0 0 0]\n",
            " [1 0 0 0 0 0 0 0]]\n",
            "[[0 0 0 0 0 0 0 0]\n",
            " [0 0 0 0 0 0 0 1]\n",
            " [0 0 0 0 0 0 1 0]\n",
            " [0 0 0 0 0 0 1 1]\n",
            " [0 0 0 0 1 1 1 1]\n",
            " [0 0 0 1 0 0 0 0]\n",
            " [0 0 1 0 0 0 0 0]\n",
            " [0 1 0 0 0 0 0 0]\n",
            " [1 0 0 0 0 0 0 0]]\n"
          ]
        }
      ],
      "source": [
        "I = np.array([0, 1, 2, 3, 15, 16, 32, 64, 128])\n",
        "B = ((I.reshape(-1,1) & (2**np.arange(8))) != 0).astype(int)\n",
        "print(B[:,::-1])\n",
        "I = np.array([0, 1, 2, 3, 15, 16, 32, 64, 128], dtype=np.uint8)\n",
        "print(np.unpackbits(I[:, np.newaxis], axis=1))"
      ]
    },
    {
      "cell_type": "markdown",
      "metadata": {
        "id": "y0z4dEeJ1IBR"
      },
      "source": [
        "#### 96. Given a two dimensional array, how to extract unique rows? (★★★) \n",
        "(**hint**: np.ascontiguousarray)"
      ]
    },
    {
      "cell_type": "code",
      "execution_count": 111,
      "metadata": {
        "id": "wrw1pRiM1IBR",
        "colab": {
          "base_uri": "https://localhost:8080/"
        },
        "outputId": "0ce6cc80-3228-4491-a69c-76ccf45e65fe"
      },
      "outputs": [
        {
          "output_type": "stream",
          "name": "stdout",
          "text": [
            "[[0 0 0]\n",
            " [0 1 0]\n",
            " [1 0 0]\n",
            " [1 0 1]\n",
            " [1 1 1]]\n",
            "[[0 0 0]\n",
            " [0 1 0]\n",
            " [1 0 0]\n",
            " [1 0 1]\n",
            " [1 1 1]]\n"
          ]
        }
      ],
      "source": [
        "Z = np.random.randint(0,2,(6,3))\n",
        "T = np.ascontiguousarray(Z).view(np.dtype((np.void, Z.dtype.itemsize * Z.shape[1])))\n",
        "_, idx = np.unique(T, return_index=True)\n",
        "uZ = Z[idx]\n",
        "print(uZ)\n",
        "uZ = np.unique(Z, axis=0)\n",
        "print(uZ)"
      ]
    },
    {
      "cell_type": "markdown",
      "metadata": {
        "id": "Z2-KoKhh1IBR"
      },
      "source": [
        "#### 97. Considering 2 vectors A & B, write the einsum equivalent of inner, outer, sum, and mul function (★★★) \n",
        "(**hint**: np.einsum)"
      ]
    },
    {
      "cell_type": "code",
      "execution_count": 112,
      "metadata": {
        "id": "E0RAL5921IBR",
        "colab": {
          "base_uri": "https://localhost:8080/"
        },
        "outputId": "3fde1bed-67c2-4a4d-9f03-419a4e19373f"
      },
      "outputs": [
        {
          "output_type": "execute_result",
          "data": {
            "text/plain": [
              "array([[0.43365975, 0.18909732, 0.12376876, 0.22243956, 0.28215393,\n",
              "        0.12999845, 0.14806151, 0.11775561, 0.52660448, 0.22123248],\n",
              "       [0.47288452, 0.20620127, 0.13496372, 0.24255934, 0.30767491,\n",
              "        0.14175688, 0.16145376, 0.12840667, 0.57423615, 0.24124308],\n",
              "       [0.64771276, 0.28243512, 0.18486061, 0.33223498, 0.42142417,\n",
              "        0.19416526, 0.22114418, 0.17587938, 0.78653469, 0.33043209],\n",
              "       [0.0421699 , 0.01838818, 0.01203551, 0.02163045, 0.02743719,\n",
              "        0.0126413 , 0.01439778, 0.01145078, 0.05120803, 0.02151307],\n",
              "       [0.42868212, 0.18692682, 0.12234812, 0.21988636, 0.27891531,\n",
              "        0.12850631, 0.14636203, 0.11640399, 0.52056001, 0.21869313],\n",
              "       [0.36016918, 0.15705175, 0.10279417, 0.18474362, 0.23433844,\n",
              "        0.10796814, 0.12297012, 0.09780004, 0.43736293, 0.1837411 ],\n",
              "       [0.3406997 , 0.14856209, 0.09723748, 0.17475703, 0.22167093,\n",
              "        0.10213176, 0.11632279, 0.09251331, 0.41372063, 0.1738087 ],\n",
              "       [0.66432675, 0.28967965, 0.18960233, 0.34075689, 0.43223381,\n",
              "        0.19914564, 0.22681658, 0.18039073, 0.80670951, 0.33890776],\n",
              "       [0.20585702, 0.08976394, 0.05875267, 0.10559141, 0.13393765,\n",
              "        0.06170989, 0.07028437, 0.05589824, 0.24997761, 0.10501841],\n",
              "       [0.56773007, 0.24755867, 0.16203313, 0.29120901, 0.36938468,\n",
              "        0.17018879, 0.19383623, 0.15416095, 0.6894096 , 0.28962875]])"
            ]
          },
          "metadata": {},
          "execution_count": 112
        }
      ],
      "source": [
        "A = np.random.uniform(0,1,10)\n",
        "B = np.random.uniform(0,1,10)\n",
        "np.einsum('i->', A)       \n",
        "np.einsum('i,i->i', A, B) \n",
        "np.einsum('i,i', A, B)    \n",
        "np.einsum('i,j->ij', A, B)    "
      ]
    },
    {
      "cell_type": "markdown",
      "metadata": {
        "id": "29wDbHk21IBR"
      },
      "source": [
        "#### 98. Considering a path described by two vectors (X,Y), how to sample it using equidistant samples (★★★)? \n",
        "(**hint**: np.cumsum, np.interp)"
      ]
    },
    {
      "cell_type": "code",
      "execution_count": 113,
      "metadata": {
        "collapsed": true,
        "id": "oI8Y0WXi1IBR"
      },
      "outputs": [],
      "source": [
        "phi = np.arange(0, 10*np.pi, 0.1)\n",
        "a = 1\n",
        "x = a*phi*np.cos(phi)\n",
        "y = a*phi*np.sin(phi)\n",
        "dr = (np.diff(x)**2 + np.diff(y)**2)**.5 \n",
        "r = np.zeros_like(x)\n",
        "r[1:] = np.cumsum(dr)                \n",
        "r_int = np.linspace(0, r.max(), 200) \n",
        "x_int = np.interp(r_int, r, x)       \n",
        "y_int = np.interp(r_int, r, y)"
      ]
    },
    {
      "cell_type": "markdown",
      "metadata": {
        "id": "lpJkuVx41IBS"
      },
      "source": [
        "#### 99. Given an integer n and a 2D array X, select from X the rows which can be interpreted as draws from a multinomial distribution with n degrees, i.e., the rows which only contain integers and which sum to n. (★★★) \n",
        "(**hint**: np.logical\\_and.reduce, np.mod)"
      ]
    },
    {
      "cell_type": "code",
      "execution_count": 114,
      "metadata": {
        "id": "9DEwGxd-1IBS",
        "colab": {
          "base_uri": "https://localhost:8080/"
        },
        "outputId": "513c80fe-f391-4c51-ecd4-47399ed565b6"
      },
      "outputs": [
        {
          "output_type": "stream",
          "name": "stdout",
          "text": [
            "[[2. 0. 1. 1.]]\n"
          ]
        }
      ],
      "source": [
        "X = np.asarray([[1.0, 0.0, 3.0, 8.0],\n",
        "                [2.0, 0.0, 1.0, 1.0],\n",
        "                [1.5, 2.5, 1.0, 0.0]])\n",
        "n = 4\n",
        "M = np.logical_and.reduce(np.mod(X, 1) == 0, axis=-1)\n",
        "M &= (X.sum(axis=-1) == n)\n",
        "print(X[M])"
      ]
    },
    {
      "cell_type": "markdown",
      "metadata": {
        "id": "LioMu3Z11IBS"
      },
      "source": [
        "#### 100. Compute bootstrapped 95% confidence intervals for the mean of a 1D array X (i.e., resample the elements of an array with replacement N times, compute the mean of each sample, and then compute percentiles over the means). (★★★) \n",
        "(**hint**: np.percentile)"
      ]
    },
    {
      "cell_type": "code",
      "execution_count": 115,
      "metadata": {
        "id": "a-dSB_Eq1IBS",
        "colab": {
          "base_uri": "https://localhost:8080/"
        },
        "outputId": "09b30f67-45b0-4aab-ea7a-b693a831ce78"
      },
      "outputs": [
        {
          "output_type": "stream",
          "name": "stdout",
          "text": [
            "[-0.22215651  0.15208874]\n"
          ]
        }
      ],
      "source": [
        "X = np.random.randn(100) # random 1D array\n",
        "N = 1000 # number of bootstrap samples\n",
        "idx = np.random.randint(0, X.size, (N, X.size))\n",
        "means = X[idx].mean(axis=1)\n",
        "confint = np.percentile(means, [2.5, 97.5])\n",
        "print(confint)"
      ]
    }
  ],
  "metadata": {
    "kernelspec": {
      "display_name": "Python 3",
      "language": "python",
      "name": "python3"
    },
    "language_info": {
      "codemirror_mode": {
        "name": "ipython",
        "version": 3
      },
      "file_extension": ".py",
      "mimetype": "text/x-python",
      "name": "python",
      "nbconvert_exporter": "python",
      "pygments_lexer": "ipython3",
      "version": "3.8.3"
    },
    "colab": {
      "name": "Copy of Numpy_tasks.ipynb",
      "provenance": [],
      "include_colab_link": true
    }
  },
  "nbformat": 4,
  "nbformat_minor": 0
}